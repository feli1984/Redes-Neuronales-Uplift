{
  "cells": [
    {
      "cell_type": "markdown",
      "metadata": {
        "id": "view-in-github",
        "colab_type": "text"
      },
      "source": [
        "<a href=\"https://colab.research.google.com/github/feli1984/adaptacionUpliftRedesneuronales/blob/main/Tesis_Redes_Neuronales_Empresa_Chilena.ipynb\" target=\"_parent\"><img src=\"https://colab.research.google.com/assets/colab-badge.svg\" alt=\"Open In Colab\"/></a>"
      ]
    },
    {
      "cell_type": "markdown",
      "source": [
        "## I.- Cargamos Librerias"
      ],
      "metadata": {
        "id": "mBuatpXwvXal"
      }
    },
    {
      "cell_type": "code",
      "execution_count": null,
      "metadata": {
        "id": "1G4TqQVpIqC7",
        "colab": {
          "base_uri": "https://localhost:8080/"
        },
        "outputId": "7484cefd-1b39-4085-e009-fbe4bf7ca7fb"
      },
      "outputs": [
        {
          "output_type": "stream",
          "name": "stdout",
          "text": [
            "Looking in indexes: https://pypi.org/simple, https://us-python.pkg.dev/colab-wheels/public/simple/\n",
            "Collecting scikit-uplift\n",
            "  Downloading scikit_uplift-0.5.1-py3-none-any.whl (42 kB)\n",
            "\u001b[2K     \u001b[90m━━━━━━━━━━━━━━━━━━━━━━━━━━━━━━━━━━━━━━━━\u001b[0m \u001b[32m42.1/42.1 KB\u001b[0m \u001b[31m4.5 MB/s\u001b[0m eta \u001b[36m0:00:00\u001b[0m\n",
            "\u001b[?25hCollecting catboost\n",
            "  Downloading catboost-1.1.1-cp38-none-manylinux1_x86_64.whl (76.6 MB)\n",
            "\u001b[2K     \u001b[90m━━━━━━━━━━━━━━━━━━━━━━━━━━━━━━━━━━━━━━━━\u001b[0m \u001b[32m76.6/76.6 MB\u001b[0m \u001b[31m10.1 MB/s\u001b[0m eta \u001b[36m0:00:00\u001b[0m\n",
            "\u001b[?25hRequirement already satisfied: pandas in /usr/local/lib/python3.8/dist-packages (1.3.5)\n",
            "Requirement already satisfied: scikit-learn>=0.21.0 in /usr/local/lib/python3.8/dist-packages (from scikit-uplift) (1.0.2)\n",
            "Requirement already satisfied: matplotlib in /usr/local/lib/python3.8/dist-packages (from scikit-uplift) (3.2.2)\n",
            "Requirement already satisfied: requests in /usr/local/lib/python3.8/dist-packages (from scikit-uplift) (2.25.1)\n",
            "Requirement already satisfied: numpy>=1.16 in /usr/local/lib/python3.8/dist-packages (from scikit-uplift) (1.21.6)\n",
            "Requirement already satisfied: tqdm in /usr/local/lib/python3.8/dist-packages (from scikit-uplift) (4.64.1)\n",
            "Requirement already satisfied: scipy in /usr/local/lib/python3.8/dist-packages (from catboost) (1.7.3)\n",
            "Requirement already satisfied: plotly in /usr/local/lib/python3.8/dist-packages (from catboost) (5.5.0)\n",
            "Requirement already satisfied: graphviz in /usr/local/lib/python3.8/dist-packages (from catboost) (0.10.1)\n",
            "Requirement already satisfied: six in /usr/local/lib/python3.8/dist-packages (from catboost) (1.15.0)\n",
            "Requirement already satisfied: pytz>=2017.3 in /usr/local/lib/python3.8/dist-packages (from pandas) (2022.7)\n",
            "Requirement already satisfied: python-dateutil>=2.7.3 in /usr/local/lib/python3.8/dist-packages (from pandas) (2.8.2)\n",
            "Requirement already satisfied: threadpoolctl>=2.0.0 in /usr/local/lib/python3.8/dist-packages (from scikit-learn>=0.21.0->scikit-uplift) (3.1.0)\n",
            "Requirement already satisfied: joblib>=0.11 in /usr/local/lib/python3.8/dist-packages (from scikit-learn>=0.21.0->scikit-uplift) (1.2.0)\n",
            "Requirement already satisfied: kiwisolver>=1.0.1 in /usr/local/lib/python3.8/dist-packages (from matplotlib->scikit-uplift) (1.4.4)\n",
            "Requirement already satisfied: pyparsing!=2.0.4,!=2.1.2,!=2.1.6,>=2.0.1 in /usr/local/lib/python3.8/dist-packages (from matplotlib->scikit-uplift) (3.0.9)\n",
            "Requirement already satisfied: cycler>=0.10 in /usr/local/lib/python3.8/dist-packages (from matplotlib->scikit-uplift) (0.11.0)\n",
            "Requirement already satisfied: tenacity>=6.2.0 in /usr/local/lib/python3.8/dist-packages (from plotly->catboost) (8.1.0)\n",
            "Requirement already satisfied: urllib3<1.27,>=1.21.1 in /usr/local/lib/python3.8/dist-packages (from requests->scikit-uplift) (1.24.3)\n",
            "Requirement already satisfied: chardet<5,>=3.0.2 in /usr/local/lib/python3.8/dist-packages (from requests->scikit-uplift) (4.0.0)\n",
            "Requirement already satisfied: certifi>=2017.4.17 in /usr/local/lib/python3.8/dist-packages (from requests->scikit-uplift) (2022.12.7)\n",
            "Requirement already satisfied: idna<3,>=2.5 in /usr/local/lib/python3.8/dist-packages (from requests->scikit-uplift) (2.10)\n",
            "Installing collected packages: scikit-uplift, catboost\n",
            "Successfully installed catboost-1.1.1 scikit-uplift-0.5.1\n",
            "Looking in indexes: https://pypi.org/simple, https://us-python.pkg.dev/colab-wheels/public/simple/\n",
            "Requirement already satisfied: tensorflow in /usr/local/lib/python3.8/dist-packages (2.9.2)\n",
            "Requirement already satisfied: opt-einsum>=2.3.2 in /usr/local/lib/python3.8/dist-packages (from tensorflow) (3.3.0)\n",
            "Requirement already satisfied: wrapt>=1.11.0 in /usr/local/lib/python3.8/dist-packages (from tensorflow) (1.14.1)\n",
            "Requirement already satisfied: keras<2.10.0,>=2.9.0rc0 in /usr/local/lib/python3.8/dist-packages (from tensorflow) (2.9.0)\n",
            "Requirement already satisfied: protobuf<3.20,>=3.9.2 in /usr/local/lib/python3.8/dist-packages (from tensorflow) (3.19.6)\n",
            "Requirement already satisfied: tensorflow-io-gcs-filesystem>=0.23.1 in /usr/local/lib/python3.8/dist-packages (from tensorflow) (0.29.0)\n",
            "Requirement already satisfied: keras-preprocessing>=1.1.1 in /usr/local/lib/python3.8/dist-packages (from tensorflow) (1.1.2)\n",
            "Requirement already satisfied: absl-py>=1.0.0 in /usr/local/lib/python3.8/dist-packages (from tensorflow) (1.3.0)\n",
            "Requirement already satisfied: numpy>=1.20 in /usr/local/lib/python3.8/dist-packages (from tensorflow) (1.21.6)\n",
            "Requirement already satisfied: termcolor>=1.1.0 in /usr/local/lib/python3.8/dist-packages (from tensorflow) (2.2.0)\n",
            "Requirement already satisfied: libclang>=13.0.0 in /usr/local/lib/python3.8/dist-packages (from tensorflow) (14.0.6)\n",
            "Requirement already satisfied: flatbuffers<2,>=1.12 in /usr/local/lib/python3.8/dist-packages (from tensorflow) (1.12)\n",
            "Requirement already satisfied: setuptools in /usr/local/lib/python3.8/dist-packages (from tensorflow) (57.4.0)\n",
            "Requirement already satisfied: tensorflow-estimator<2.10.0,>=2.9.0rc0 in /usr/local/lib/python3.8/dist-packages (from tensorflow) (2.9.0)\n",
            "Requirement already satisfied: tensorboard<2.10,>=2.9 in /usr/local/lib/python3.8/dist-packages (from tensorflow) (2.9.1)\n",
            "Requirement already satisfied: grpcio<2.0,>=1.24.3 in /usr/local/lib/python3.8/dist-packages (from tensorflow) (1.51.1)\n",
            "Requirement already satisfied: h5py>=2.9.0 in /usr/local/lib/python3.8/dist-packages (from tensorflow) (3.1.0)\n",
            "Requirement already satisfied: gast<=0.4.0,>=0.2.1 in /usr/local/lib/python3.8/dist-packages (from tensorflow) (0.4.0)\n",
            "Requirement already satisfied: six>=1.12.0 in /usr/local/lib/python3.8/dist-packages (from tensorflow) (1.15.0)\n",
            "Requirement already satisfied: packaging in /usr/local/lib/python3.8/dist-packages (from tensorflow) (21.3)\n",
            "Requirement already satisfied: google-pasta>=0.1.1 in /usr/local/lib/python3.8/dist-packages (from tensorflow) (0.2.0)\n",
            "Requirement already satisfied: typing-extensions>=3.6.6 in /usr/local/lib/python3.8/dist-packages (from tensorflow) (4.4.0)\n",
            "Requirement already satisfied: astunparse>=1.6.0 in /usr/local/lib/python3.8/dist-packages (from tensorflow) (1.6.3)\n",
            "Requirement already satisfied: wheel<1.0,>=0.23.0 in /usr/local/lib/python3.8/dist-packages (from astunparse>=1.6.0->tensorflow) (0.38.4)\n",
            "Requirement already satisfied: requests<3,>=2.21.0 in /usr/local/lib/python3.8/dist-packages (from tensorboard<2.10,>=2.9->tensorflow) (2.25.1)\n",
            "Requirement already satisfied: tensorboard-plugin-wit>=1.6.0 in /usr/local/lib/python3.8/dist-packages (from tensorboard<2.10,>=2.9->tensorflow) (1.8.1)\n",
            "Requirement already satisfied: markdown>=2.6.8 in /usr/local/lib/python3.8/dist-packages (from tensorboard<2.10,>=2.9->tensorflow) (3.4.1)\n",
            "Requirement already satisfied: tensorboard-data-server<0.7.0,>=0.6.0 in /usr/local/lib/python3.8/dist-packages (from tensorboard<2.10,>=2.9->tensorflow) (0.6.1)\n",
            "Requirement already satisfied: google-auth-oauthlib<0.5,>=0.4.1 in /usr/local/lib/python3.8/dist-packages (from tensorboard<2.10,>=2.9->tensorflow) (0.4.6)\n",
            "Requirement already satisfied: werkzeug>=1.0.1 in /usr/local/lib/python3.8/dist-packages (from tensorboard<2.10,>=2.9->tensorflow) (1.0.1)\n",
            "Requirement already satisfied: google-auth<3,>=1.6.3 in /usr/local/lib/python3.8/dist-packages (from tensorboard<2.10,>=2.9->tensorflow) (2.15.0)\n",
            "Requirement already satisfied: pyparsing!=3.0.5,>=2.0.2 in /usr/local/lib/python3.8/dist-packages (from packaging->tensorflow) (3.0.9)\n",
            "Requirement already satisfied: rsa<5,>=3.1.4 in /usr/local/lib/python3.8/dist-packages (from google-auth<3,>=1.6.3->tensorboard<2.10,>=2.9->tensorflow) (4.9)\n",
            "Requirement already satisfied: pyasn1-modules>=0.2.1 in /usr/local/lib/python3.8/dist-packages (from google-auth<3,>=1.6.3->tensorboard<2.10,>=2.9->tensorflow) (0.2.8)\n",
            "Requirement already satisfied: cachetools<6.0,>=2.0.0 in /usr/local/lib/python3.8/dist-packages (from google-auth<3,>=1.6.3->tensorboard<2.10,>=2.9->tensorflow) (5.2.0)\n",
            "Requirement already satisfied: requests-oauthlib>=0.7.0 in /usr/local/lib/python3.8/dist-packages (from google-auth-oauthlib<0.5,>=0.4.1->tensorboard<2.10,>=2.9->tensorflow) (1.3.1)\n",
            "Requirement already satisfied: importlib-metadata>=4.4 in /usr/local/lib/python3.8/dist-packages (from markdown>=2.6.8->tensorboard<2.10,>=2.9->tensorflow) (6.0.0)\n",
            "Requirement already satisfied: certifi>=2017.4.17 in /usr/local/lib/python3.8/dist-packages (from requests<3,>=2.21.0->tensorboard<2.10,>=2.9->tensorflow) (2022.12.7)\n",
            "Requirement already satisfied: idna<3,>=2.5 in /usr/local/lib/python3.8/dist-packages (from requests<3,>=2.21.0->tensorboard<2.10,>=2.9->tensorflow) (2.10)\n",
            "Requirement already satisfied: urllib3<1.27,>=1.21.1 in /usr/local/lib/python3.8/dist-packages (from requests<3,>=2.21.0->tensorboard<2.10,>=2.9->tensorflow) (1.24.3)\n",
            "Requirement already satisfied: chardet<5,>=3.0.2 in /usr/local/lib/python3.8/dist-packages (from requests<3,>=2.21.0->tensorboard<2.10,>=2.9->tensorflow) (4.0.0)\n",
            "Requirement already satisfied: zipp>=0.5 in /usr/local/lib/python3.8/dist-packages (from importlib-metadata>=4.4->markdown>=2.6.8->tensorboard<2.10,>=2.9->tensorflow) (3.11.0)\n",
            "Requirement already satisfied: pyasn1<0.5.0,>=0.4.6 in /usr/local/lib/python3.8/dist-packages (from pyasn1-modules>=0.2.1->google-auth<3,>=1.6.3->tensorboard<2.10,>=2.9->tensorflow) (0.4.8)\n",
            "Requirement already satisfied: oauthlib>=3.0.0 in /usr/local/lib/python3.8/dist-packages (from requests-oauthlib>=0.7.0->google-auth-oauthlib<0.5,>=0.4.1->tensorboard<2.10,>=2.9->tensorflow) (3.2.2)\n",
            "Looking in indexes: https://pypi.org/simple, https://us-python.pkg.dev/colab-wheels/public/simple/\n",
            "Requirement already satisfied: scikit-uplift in /usr/local/lib/python3.8/dist-packages (0.5.1)\n",
            "Collecting xgboost==1.0.2\n",
            "  Downloading xgboost-1.0.2-py3-none-manylinux1_x86_64.whl (109.7 MB)\n",
            "\u001b[2K     \u001b[90m━━━━━━━━━━━━━━━━━━━━━━━━━━━━━━━━━━━━━━━\u001b[0m \u001b[32m109.7/109.7 MB\u001b[0m \u001b[31m7.5 MB/s\u001b[0m eta \u001b[36m0:00:00\u001b[0m\n",
            "\u001b[?25hCollecting category_encoders==2.1.0\n",
            "  Downloading category_encoders-2.1.0-py2.py3-none-any.whl (100 kB)\n",
            "\u001b[2K     \u001b[90m━━━━━━━━━━━━━━━━━━━━━━━━━━━━━━━━━━━━━━\u001b[0m \u001b[32m100.3/100.3 KB\u001b[0m \u001b[31m12.6 MB/s\u001b[0m eta \u001b[36m0:00:00\u001b[0m\n",
            "\u001b[?25hRequirement already satisfied: scipy in /usr/local/lib/python3.8/dist-packages (from xgboost==1.0.2) (1.7.3)\n",
            "Requirement already satisfied: numpy in /usr/local/lib/python3.8/dist-packages (from xgboost==1.0.2) (1.21.6)\n",
            "Requirement already satisfied: statsmodels>=0.6.1 in /usr/local/lib/python3.8/dist-packages (from category_encoders==2.1.0) (0.12.2)\n",
            "Requirement already satisfied: pandas>=0.21.1 in /usr/local/lib/python3.8/dist-packages (from category_encoders==2.1.0) (1.3.5)\n",
            "Requirement already satisfied: scikit-learn>=0.20.0 in /usr/local/lib/python3.8/dist-packages (from category_encoders==2.1.0) (1.0.2)\n",
            "Requirement already satisfied: patsy>=0.4.1 in /usr/local/lib/python3.8/dist-packages (from category_encoders==2.1.0) (0.5.3)\n",
            "Requirement already satisfied: matplotlib in /usr/local/lib/python3.8/dist-packages (from scikit-uplift) (3.2.2)\n",
            "Requirement already satisfied: requests in /usr/local/lib/python3.8/dist-packages (from scikit-uplift) (2.25.1)\n",
            "Requirement already satisfied: tqdm in /usr/local/lib/python3.8/dist-packages (from scikit-uplift) (4.64.1)\n",
            "Requirement already satisfied: pytz>=2017.3 in /usr/local/lib/python3.8/dist-packages (from pandas>=0.21.1->category_encoders==2.1.0) (2022.7)\n",
            "Requirement already satisfied: python-dateutil>=2.7.3 in /usr/local/lib/python3.8/dist-packages (from pandas>=0.21.1->category_encoders==2.1.0) (2.8.2)\n",
            "Requirement already satisfied: six in /usr/local/lib/python3.8/dist-packages (from patsy>=0.4.1->category_encoders==2.1.0) (1.15.0)\n",
            "Requirement already satisfied: threadpoolctl>=2.0.0 in /usr/local/lib/python3.8/dist-packages (from scikit-learn>=0.20.0->category_encoders==2.1.0) (3.1.0)\n",
            "Requirement already satisfied: joblib>=0.11 in /usr/local/lib/python3.8/dist-packages (from scikit-learn>=0.20.0->category_encoders==2.1.0) (1.2.0)\n",
            "Requirement already satisfied: kiwisolver>=1.0.1 in /usr/local/lib/python3.8/dist-packages (from matplotlib->scikit-uplift) (1.4.4)\n",
            "Requirement already satisfied: cycler>=0.10 in /usr/local/lib/python3.8/dist-packages (from matplotlib->scikit-uplift) (0.11.0)\n",
            "Requirement already satisfied: pyparsing!=2.0.4,!=2.1.2,!=2.1.6,>=2.0.1 in /usr/local/lib/python3.8/dist-packages (from matplotlib->scikit-uplift) (3.0.9)\n",
            "Requirement already satisfied: idna<3,>=2.5 in /usr/local/lib/python3.8/dist-packages (from requests->scikit-uplift) (2.10)\n",
            "Requirement already satisfied: certifi>=2017.4.17 in /usr/local/lib/python3.8/dist-packages (from requests->scikit-uplift) (2022.12.7)\n",
            "Requirement already satisfied: urllib3<1.27,>=1.21.1 in /usr/local/lib/python3.8/dist-packages (from requests->scikit-uplift) (1.24.3)\n",
            "Requirement already satisfied: chardet<5,>=3.0.2 in /usr/local/lib/python3.8/dist-packages (from requests->scikit-uplift) (4.0.0)\n",
            "Installing collected packages: xgboost, category_encoders\n",
            "  Attempting uninstall: xgboost\n",
            "    Found existing installation: xgboost 0.90\n",
            "    Uninstalling xgboost-0.90:\n",
            "      Successfully uninstalled xgboost-0.90\n",
            "Successfully installed category_encoders-2.1.0 xgboost-1.0.2\n",
            "Looking in indexes: https://pypi.org/simple, https://us-python.pkg.dev/colab-wheels/public/simple/\n",
            "Collecting causalml\n",
            "  Downloading causalml-0.13.0.tar.gz (535 kB)\n",
            "\u001b[2K     \u001b[90m━━━━━━━━━━━━━━━━━━━━━━━━━━━━━━━━━━━━━━\u001b[0m \u001b[32m535.9/535.9 KB\u001b[0m \u001b[31m21.8 MB/s\u001b[0m eta \u001b[36m0:00:00\u001b[0m\n",
            "\u001b[?25h  Preparing metadata (setup.py) ... \u001b[?25l\u001b[?25hdone\n",
            "Requirement already satisfied: setuptools>=41.0.0 in /usr/local/lib/python3.8/dist-packages (from causalml) (57.4.0)\n",
            "Collecting forestci==0.6\n",
            "  Downloading forestci-0.6-py3-none-any.whl (12 kB)\n",
            "Collecting pathos==0.2.9\n",
            "  Downloading pathos-0.2.9-py3-none-any.whl (76 kB)\n",
            "\u001b[2K     \u001b[90m━━━━━━━━━━━━━━━━━━━━━━━━━━━━━━━━━━━━━━━━\u001b[0m \u001b[32m76.9/76.9 KB\u001b[0m \u001b[31m9.4 MB/s\u001b[0m eta \u001b[36m0:00:00\u001b[0m\n",
            "\u001b[?25hRequirement already satisfied: pip>=10.0 in /usr/local/lib/python3.8/dist-packages (from causalml) (22.0.4)\n",
            "Requirement already satisfied: numpy>=1.18.5 in /usr/local/lib/python3.8/dist-packages (from causalml) (1.21.6)\n",
            "Requirement already satisfied: scipy>=1.4.1 in /usr/local/lib/python3.8/dist-packages (from causalml) (1.7.3)\n",
            "Requirement already satisfied: matplotlib in /usr/local/lib/python3.8/dist-packages (from causalml) (3.2.2)\n",
            "Requirement already satisfied: pandas>=0.24.1 in /usr/local/lib/python3.8/dist-packages (from causalml) (1.3.5)\n",
            "Requirement already satisfied: scikit-learn==1.0.2 in /usr/local/lib/python3.8/dist-packages (from causalml) (1.0.2)\n",
            "Requirement already satisfied: statsmodels>=0.9.0 in /usr/local/lib/python3.8/dist-packages (from causalml) (0.12.2)\n",
            "Requirement already satisfied: seaborn in /usr/local/lib/python3.8/dist-packages (from causalml) (0.11.2)\n",
            "Requirement already satisfied: Cython>=0.28.0 in /usr/local/lib/python3.8/dist-packages (from causalml) (0.29.32)\n",
            "Requirement already satisfied: xgboost in /usr/local/lib/python3.8/dist-packages (from causalml) (1.0.2)\n",
            "Requirement already satisfied: pydotplus in /usr/local/lib/python3.8/dist-packages (from causalml) (2.0.2)\n",
            "Requirement already satisfied: tqdm in /usr/local/lib/python3.8/dist-packages (from causalml) (4.64.1)\n",
            "Collecting shap\n",
            "  Downloading shap-0.41.0-cp38-cp38-manylinux_2_12_x86_64.manylinux2010_x86_64.whl (575 kB)\n",
            "\u001b[2K     \u001b[90m━━━━━━━━━━━━━━━━━━━━━━━━━━━━━━━━━━━━━━\u001b[0m \u001b[32m575.9/575.9 KB\u001b[0m \u001b[31m44.1 MB/s\u001b[0m eta \u001b[36m0:00:00\u001b[0m\n",
            "\u001b[?25hRequirement already satisfied: dill in /usr/local/lib/python3.8/dist-packages (from causalml) (0.3.6)\n",
            "Requirement already satisfied: lightgbm in /usr/local/lib/python3.8/dist-packages (from causalml) (2.2.3)\n",
            "Collecting pygam\n",
            "  Downloading pygam-0.8.0-py2.py3-none-any.whl (1.8 MB)\n",
            "\u001b[2K     \u001b[90m━━━━━━━━━━━━━━━━━━━━━━━━━━━━━━━━━━━━━━━━\u001b[0m \u001b[32m1.8/1.8 MB\u001b[0m \u001b[31m55.7 MB/s\u001b[0m eta \u001b[36m0:00:00\u001b[0m\n",
            "\u001b[?25hRequirement already satisfied: packaging in /usr/local/lib/python3.8/dist-packages (from causalml) (21.3)\n",
            "Requirement already satisfied: torch in /usr/local/lib/python3.8/dist-packages (from causalml) (1.13.0+cu116)\n",
            "Collecting pyro-ppl\n",
            "  Downloading pyro_ppl-1.8.4-py3-none-any.whl (730 kB)\n",
            "\u001b[2K     \u001b[90m━━━━━━━━━━━━━━━━━━━━━━━━━━━━━━━━━━━━━━\u001b[0m \u001b[32m730.7/730.7 KB\u001b[0m \u001b[31m50.9 MB/s\u001b[0m eta \u001b[36m0:00:00\u001b[0m\n",
            "\u001b[?25hRequirement already satisfied: graphviz in /usr/local/lib/python3.8/dist-packages (from causalml) (0.10.1)\n",
            "Collecting multiprocess>=0.70.13\n",
            "  Downloading multiprocess-0.70.14-py38-none-any.whl (132 kB)\n",
            "\u001b[2K     \u001b[90m━━━━━━━━━━━━━━━━━━━━━━━━━━━━━━━━━━━━━━\u001b[0m \u001b[32m132.0/132.0 KB\u001b[0m \u001b[31m15.5 MB/s\u001b[0m eta \u001b[36m0:00:00\u001b[0m\n",
            "\u001b[?25hCollecting pox>=0.3.1\n",
            "  Downloading pox-0.3.2-py3-none-any.whl (29 kB)\n",
            "Collecting ppft>=1.7.6.5\n",
            "  Downloading ppft-1.7.6.6-py3-none-any.whl (52 kB)\n",
            "\u001b[2K     \u001b[90m━━━━━━━━━━━━━━━━━━━━━━━━━━━━━━━━━━━━━━━━\u001b[0m \u001b[32m52.8/52.8 KB\u001b[0m \u001b[31m7.2 MB/s\u001b[0m eta \u001b[36m0:00:00\u001b[0m\n",
            "\u001b[?25hRequirement already satisfied: joblib>=0.11 in /usr/local/lib/python3.8/dist-packages (from scikit-learn==1.0.2->causalml) (1.2.0)\n",
            "Requirement already satisfied: threadpoolctl>=2.0.0 in /usr/local/lib/python3.8/dist-packages (from scikit-learn==1.0.2->causalml) (3.1.0)\n",
            "Requirement already satisfied: pytz>=2017.3 in /usr/local/lib/python3.8/dist-packages (from pandas>=0.24.1->causalml) (2022.7)\n",
            "Requirement already satisfied: python-dateutil>=2.7.3 in /usr/local/lib/python3.8/dist-packages (from pandas>=0.24.1->causalml) (2.8.2)\n",
            "Requirement already satisfied: patsy>=0.5 in /usr/local/lib/python3.8/dist-packages (from statsmodels>=0.9.0->causalml) (0.5.3)\n",
            "Requirement already satisfied: kiwisolver>=1.0.1 in /usr/local/lib/python3.8/dist-packages (from matplotlib->causalml) (1.4.4)\n",
            "Requirement already satisfied: cycler>=0.10 in /usr/local/lib/python3.8/dist-packages (from matplotlib->causalml) (0.11.0)\n",
            "Requirement already satisfied: pyparsing!=2.0.4,!=2.1.2,!=2.1.6,>=2.0.1 in /usr/local/lib/python3.8/dist-packages (from matplotlib->causalml) (3.0.9)\n",
            "Requirement already satisfied: progressbar2 in /usr/local/lib/python3.8/dist-packages (from pygam->causalml) (3.38.0)\n",
            "Requirement already satisfied: future in /usr/local/lib/python3.8/dist-packages (from pygam->causalml) (0.16.0)\n",
            "Collecting pyro-api>=0.1.1\n",
            "  Downloading pyro_api-0.1.2-py3-none-any.whl (11 kB)\n",
            "Requirement already satisfied: opt-einsum>=2.3.2 in /usr/local/lib/python3.8/dist-packages (from pyro-ppl->causalml) (3.3.0)\n",
            "Requirement already satisfied: typing-extensions in /usr/local/lib/python3.8/dist-packages (from torch->causalml) (4.4.0)\n",
            "Collecting slicer==0.0.7\n",
            "  Downloading slicer-0.0.7-py3-none-any.whl (14 kB)\n",
            "Requirement already satisfied: numba in /usr/local/lib/python3.8/dist-packages (from shap->causalml) (0.56.4)\n",
            "Requirement already satisfied: cloudpickle in /usr/local/lib/python3.8/dist-packages (from shap->causalml) (2.2.0)\n",
            "Requirement already satisfied: six in /usr/local/lib/python3.8/dist-packages (from patsy>=0.5->statsmodels>=0.9.0->causalml) (1.15.0)\n",
            "Requirement already satisfied: importlib-metadata in /usr/local/lib/python3.8/dist-packages (from numba->shap->causalml) (6.0.0)\n",
            "Requirement already satisfied: llvmlite<0.40,>=0.39.0dev0 in /usr/local/lib/python3.8/dist-packages (from numba->shap->causalml) (0.39.1)\n",
            "Requirement already satisfied: python-utils>=2.3.0 in /usr/local/lib/python3.8/dist-packages (from progressbar2->pygam->causalml) (3.4.5)\n",
            "Requirement already satisfied: zipp>=0.5 in /usr/local/lib/python3.8/dist-packages (from importlib-metadata->numba->shap->causalml) (3.11.0)\n",
            "Building wheels for collected packages: causalml\n",
            "  Building wheel for causalml (setup.py) ... \u001b[?25l\u001b[?25hdone\n",
            "  Created wheel for causalml: filename=causalml-0.13.0-cp38-cp38-linux_x86_64.whl size=1482444 sha256=6af904f9de8e68501be3e9f5054f914e64d21ffd82547b9592c68ca8e32012ad\n",
            "  Stored in directory: /root/.cache/pip/wheels/69/88/0f/dacafa2cf04c6eeea7172fb8f4d41b82330f5ec9edf807d167\n",
            "Successfully built causalml\n",
            "Installing collected packages: pyro-api, slicer, ppft, pox, multiprocess, pyro-ppl, pygam, pathos, shap, forestci, causalml\n",
            "Successfully installed causalml-0.13.0 forestci-0.6 multiprocess-0.70.14 pathos-0.2.9 pox-0.3.2 ppft-1.7.6.6 pygam-0.8.0 pyro-api-0.1.2 pyro-ppl-1.8.4 shap-0.41.0 slicer-0.0.7\n"
          ]
        }
      ],
      "source": [
        "import sys\n",
        "\n",
        "# install uplift library scikit-uplift and other libraries \n",
        "!{sys.executable} -m pip install scikit-uplift catboost pandas\n",
        "!pip install tensorflow\n",
        "!pip install scikit-uplift xgboost==1.0.2 category_encoders==2.1.0 -U\n",
        "import pandas as pd\n",
        "import numpy as np\n",
        "import seaborn as sns                       #visualisation\n",
        "import matplotlib.pyplot as plt             #visualisation\n",
        "%matplotlib inline     \n",
        "sns.set(color_codes=True)\n",
        "from sklearn.model_selection import train_test_split\n",
        "from sklift.models import ClassTransformation\n",
        "from xgboost import XGBClassifier\n",
        "from sklift.models import TwoModels\n",
        "from catboost import CatBoostClassifier\n",
        "from sklearn.pipeline import Pipeline\n",
        "from category_encoders import CatBoostEncoder\n",
        "from sklift.viz import plot_qini_curve , plot_uplift_by_percentile , plot_uplift_curve ,plot_treatment_balance_curve \n",
        "from sklift.viz import plot_uplift_preds\n",
        "from sklift.models import SoloModel\n",
        "from sklearn.compose import ColumnTransformer\n",
        "from sklearn.preprocessing import StandardScaler\n",
        "import os\n",
        "import random\n",
        "import keras\n",
        "import tensorflow as tf\n",
        "from keras.models import Sequential\n",
        "from tensorflow.keras.layers import Input\n",
        "from tensorflow.keras.layers import Lambda\n",
        "from keras.losses import mean_squared_error,binary_crossentropy\n",
        "from tensorflow.keras.layers import Dense\n",
        "from keras.layers.core import Dense, Dropout, Flatten\n",
        "from tensorflow.keras.models import Model\n",
        "!pip install causalml\n",
        "from causalml.inference.tf import DragonNet\n",
        "from sklearn.compose import ColumnTransformer\n",
        "from sklearn.preprocessing import StandardScaler\n",
        "import tensorflow.keras.backend as K\n",
        "\n",
        "from sklift.metrics import (\n",
        "     uplift_at_k, uplift_auc_score, qini_auc_score, weighted_average_uplift, perfect_uplift_curve\n",
        " )\n",
        "\n",
        "from causalml.inference.nn import CEVAE\n",
        "import torch\n",
        "import warnings\n",
        "import logging\n",
        "\n",
        "\n",
        "# Cargamos las librerias para poder hacer el sobremuestreo de la data con SMOTE y limpiando con ENN\n",
        "# from imblearn.combine import SMOTETomek\n",
        "from imblearn.combine import SMOTEENN"
      ]
    },
    {
      "cell_type": "code",
      "source": [
        "from numpy import mean\n",
        "from numpy import std\n",
        "from numpy import dstack\n",
        "from pandas import read_csv\n",
        "from matplotlib import pyplot\n",
        "from keras.models import Sequential\n",
        "from keras.layers import Dense\n",
        "from keras.layers import Flatten\n",
        "from keras.layers import Dropout\n",
        "from keras.layers.convolutional import Conv1D\n",
        "from keras.layers.convolutional import MaxPooling1D\n",
        "from keras.utils import to_categorical"
      ],
      "metadata": {
        "id": "3e0Higth_UXO"
      },
      "execution_count": null,
      "outputs": []
    },
    {
      "cell_type": "markdown",
      "metadata": {
        "id": "iuF6m4I_5_Nz"
      },
      "source": [
        "# II.- Cargamos datos + separamos datos"
      ]
    },
    {
      "cell_type": "markdown",
      "metadata": {
        "id": "bSyTSmrRLvJS"
      },
      "source": [
        "## 2.- Cargamos datos"
      ]
    },
    {
      "cell_type": "code",
      "execution_count": null,
      "metadata": {
        "id": "tZUqKwKvLj43"
      },
      "outputs": [],
      "source": [
        " df = pd.read_csv(\"/content/dataframe.csv\")\n",
        " "
      ]
    },
    {
      "cell_type": "code",
      "execution_count": null,
      "metadata": {
        "id": "0X05pDjT_B0N"
      },
      "outputs": [],
      "source": [
        "##clase utilidades, y configuraciones iniciales \n",
        "class utils:\n",
        "  def __init__(self , dataset):\n",
        "    self.dataset = dataset\n",
        "    self.balance( self.dataset )\n",
        "    self.alpha=0.05\n",
        "    self.optimizer=\"rmsprop\"\n",
        "    self.reg = 0.01\n",
        "    self.batch_size = 96\n",
        "    self.epochs = 30\n",
        "    self.input_dim = 29\n",
        "    self.shape0 = (29,)\n",
        "    #self.shape0 = (29,1)\n",
        "    self.shape1 = 1\n",
        "    self.test_size =0.1\n",
        "    self.ratio_balance='auto'\n",
        "    self.set_transformed_outcome( self.dataset )\n",
        "  ## es requerido q el total de observaciones de T sea igual en 1 y en 0\n",
        "  def balance(self , dataset   ):\n",
        "    self.dataset = dataset\n",
        "    qty=0\n",
        "    if( len(self.dataset[ self.dataset['group'] ==1 ]) > len(self.dataset[ self.dataset['group'] ==0 ]) ):\n",
        "      delete_in_group = 1\n",
        "      qty = len(self.dataset[ self.dataset['group'] ==1 ]) - len(self.dataset[ self.dataset['group'] ==0 ])\n",
        "    elif( len(self.dataset[ self.dataset['group'] == 0 ]) > len(self.dataset[ self.dataset['group'] ==1 ]) ):\n",
        "      delete_in_group = 0\n",
        "      qty = len(self.dataset[ self.dataset['group'] ==0 ]) - len(self.dataset[ self.dataset['group'] ==1 ])\n",
        "    else:\n",
        "      delete_in_group = -1\n",
        "    if( delete_in_group!=-1 ):\n",
        "      set_to_join_1 = self.dataset[ self.dataset['group'] != delete_in_group  ]\n",
        "      set_to_join_2 = self.dataset[ self.dataset['group'] == delete_in_group  ]\n",
        "      set_to_join_2_0 = set_to_join_2[ set_to_join_2['buy_campaing'] == 0  ]\n",
        "      set_to_join_2_1 = set_to_join_2[ set_to_join_2['buy_campaing'] == 1  ]\n",
        "\n",
        "      set_to_delete = set_to_join_2_0.iloc[0:len(set_to_join_2_0)-qty,:]\n",
        "\n",
        "      df = pd.DataFrame(data=set_to_delete)\n",
        "      self.dataset = pd.concat([set_to_join_1, set_to_delete, set_to_join_2_1])\n",
        "      return self.dataset\n",
        "  \n",
        "  def _replaceitem( self, x):\n",
        "    if( x >= 0.5 ):\n",
        "      return 1\n",
        "    return 0\n",
        "\n",
        "  def clean_list(  self,list  ):\n",
        "    new_list = []\n",
        "    for index_ in range(len(list)):\n",
        "      j = list[index_]\n",
        "      new_list.append( (j[0]) )\n",
        "    return new_list\n",
        "      \n",
        "\n",
        "  #aplicamos la transformacion de clases\n",
        "  def set_transformed_outcome( self , dataset_  ):\n",
        "    self.dataset = dataset_\n",
        "    self.dataset[\"z\"] = 0;\n",
        "    self.dataset.loc[ (self.dataset['buy_campaing'] == 1) & (self.dataset['group'] == 1) , 'z' ] = 2\n",
        "    self.dataset.loc[ (self.dataset['buy_campaing'] == 1) & (self.dataset['group'] == 0) , 'z' ] = -2\n",
        "    return self.dataset\n",
        "\n",
        "  #esta red tiene un estructura similar a la que se implementara en la red siamesa, el unico proposito de esta es analizar los metodos de balanceo\n",
        "  def build_rn( self, optimizer = '' , dropout_rate=0.0  , activation = \"relu\" , neurons= 15):\n",
        "    if( optimizer ==\"\"):\n",
        "      optimizer = self.optimizer    \n",
        "    classifier = Sequential()\n",
        "    classifier.add(Dense( neurons , activation = activation, input_dim = utils.input_dim  , input_shape=utils.shape0 , name=\"layer1\") )\n",
        "    classifier.add(Dropout(dropout_rate))\n",
        "    classifier.add(Dense(units = 10, activation = \"relu\", name=\"layer2\"))\n",
        "    classifier.add(Dropout(dropout_rate))\n",
        "    classifier.add(Dense(units = 1, kernel_initializer = \"uniform\",  activation = \"sigmoid\", name=\"layer3\"))\n",
        "\n",
        "    classifier.compile( optimizer= optimizer, loss=\"binary_crossentropy\" , metrics=[\"accuracy\"],\n",
        "                        )\n",
        "    \n",
        "    return classifier\n",
        "\n",
        "\n",
        "  ## calcular los pesos\n",
        "  def get_weights( self, y_train ):\n",
        "    weights_ = class_weight.compute_class_weight('balanced',\n",
        "                                                 np.unique(y_train),\n",
        "                                                 y_train)\n",
        "    weights_ = { 0 : weights_[0] , 1:weights_[1]  }\n",
        "    return weights_\n",
        "\n",
        "  ##para generar los pares\n",
        "  def make_pairs(self, X_test , z ):\n",
        "    input1 = X_test.copy()\n",
        "    input2 = X_test.copy()\n",
        "\n",
        "    input1 = np.hstack(( input1, np.zeros(( input1.shape[0], 1), dtype= input1.dtype)))\n",
        "    input2 = np.hstack(( input2, np.zeros(( input2.shape[0], 1), dtype= input2.dtype)))\n",
        "    input2[:,-1] = 1 #input 0 con T = 1 \n",
        "    input1[:,-1] = 0 #input 1 con T = 0 \n",
        "\n",
        "    return [input1, input2], z\n",
        "\n",
        "  \n",
        "    \n",
        "\n",
        "\n",
        "\n",
        "utils = utils( df )\n",
        "dataset = utils.balance( df )\n",
        "dataset = utils.set_transformed_outcome( dataset )\n",
        "seed_value= 333\n",
        "os.environ['PYTHONHASHSEED']=str(seed_value)\n",
        "random.seed(seed_value)\n",
        "np.random.seed(seed_value)\n",
        "tf.random.set_seed(seed_value)"
      ]
    },
    {
      "cell_type": "code",
      "execution_count": null,
      "metadata": {
        "id": "vuoK-61xVTLN",
        "colab": {
          "base_uri": "https://localhost:8080/"
        },
        "outputId": "25680384-5880-46ff-f250-1d485ad969c0"
      },
      "outputs": [
        {
          "output_type": "execute_result",
          "data": {
            "text/plain": [
              "(4664, 30)"
            ]
          },
          "metadata": {},
          "execution_count": 5
        }
      ],
      "source": [
        "dataset.shape"
      ]
    },
    {
      "cell_type": "code",
      "execution_count": null,
      "metadata": {
        "colab": {
          "base_uri": "https://localhost:8080/"
        },
        "id": "MG8Id337V0mL",
        "outputId": "a80d13d7-0700-400a-fa24-4b03f438d742"
      },
      "outputs": [
        {
          "output_type": "display_data",
          "data": {
            "text/plain": [
              "False"
            ]
          },
          "metadata": {}
        }
      ],
      "source": [
        "#nos aseguramos que no existan datos nulos\n",
        "dataset.dtypes\n",
        "display(dataset.isnull().values.any())"
      ]
    },
    {
      "cell_type": "code",
      "execution_count": null,
      "metadata": {
        "colab": {
          "base_uri": "https://localhost:8080/"
        },
        "id": "SLoo9LXqINZ2",
        "outputId": "254872b9-bf4f-4c62-f7f0-7f3331ba3b68"
      },
      "outputs": [
        {
          "output_type": "execute_result",
          "data": {
            "text/plain": [
              "3.2804459691252146"
            ]
          },
          "metadata": {},
          "execution_count": 7
        }
      ],
      "source": [
        "dataset[\"buy_campaing\"].mean()*100"
      ]
    },
    {
      "cell_type": "code",
      "execution_count": null,
      "metadata": {
        "colab": {
          "base_uri": "https://localhost:8080/"
        },
        "id": "ri0vTY4PS-oh",
        "outputId": "90707474-14c1-421e-898c-a4506f73f177"
      },
      "outputs": [
        {
          "output_type": "execute_result",
          "data": {
            "text/plain": [
              "2332"
            ]
          },
          "metadata": {},
          "execution_count": 8
        }
      ],
      "source": [
        "len(dataset[ dataset['group'] ==1 ])# 1 = Mk o Tratamiento"
      ]
    },
    {
      "cell_type": "code",
      "execution_count": null,
      "metadata": {
        "colab": {
          "base_uri": "https://localhost:8080/"
        },
        "id": "oWix8R02TLA4",
        "outputId": "f1cc7e41-3ba9-42aa-e404-721fc1107bd1"
      },
      "outputs": [
        {
          "output_type": "execute_result",
          "data": {
            "text/plain": [
              "2332"
            ]
          },
          "metadata": {},
          "execution_count": 9
        }
      ],
      "source": [
        "len(dataset[ dataset['group'] ==0 ])# 0 = Control "
      ]
    },
    {
      "cell_type": "markdown",
      "metadata": {
        "id": "Iz3EUwnE66X_"
      },
      "source": [
        "## 3.- Separación de datos Objetivo, tratamiento"
      ]
    },
    {
      "cell_type": "code",
      "execution_count": null,
      "metadata": {
        "id": "7vzNBQNKRFeS"
      },
      "outputs": [],
      "source": [
        "dataset_aux = dataset.copy()\n",
        "train_dataset= dataset_aux.sample( frac = 1-utils.test_size) # saca el 90% de datos aleatorios \n",
        "test_dataset = dataset_aux.drop( train_dataset.index )# deja aquellos que no fueron sampleados"
      ]
    },
    {
      "cell_type": "code",
      "execution_count": null,
      "metadata": {
        "id": "KOn9IXSxRM5Z",
        "colab": {
          "base_uri": "https://localhost:8080/"
        },
        "outputId": "1b11b1e5-ff98-4093-faab-8eeed72b46fe"
      },
      "outputs": [
        {
          "output_type": "execute_result",
          "data": {
            "text/plain": [
              "(4198, 30)"
            ]
          },
          "metadata": {},
          "execution_count": 11
        }
      ],
      "source": [
        "train_dataset.shape"
      ]
    },
    {
      "cell_type": "code",
      "execution_count": null,
      "metadata": {
        "id": "ZJ0ZEjzJK0GS",
        "colab": {
          "base_uri": "https://localhost:8080/"
        },
        "outputId": "4d73c4f9-1179-4f8b-b679-9faccbbbf680"
      },
      "outputs": [
        {
          "output_type": "execute_result",
          "data": {
            "text/plain": [
              "      group  gender  year_birth  total_orders  total_m  total_f  total_o  \\\n",
              "0         0       1           2             0        0        0        0   \n",
              "1         0       1           1             0        0        0        0   \n",
              "3         0       1           1             0        0        0        0   \n",
              "4         0       0           2             1        0    12899        0   \n",
              "5         0       1           1             0        0        0        0   \n",
              "...     ...     ...         ...           ...      ...      ...      ...   \n",
              "4308      1       1           3             0        0        0        0   \n",
              "4309      1       0           3             1        0    31136        0   \n",
              "4310      1       1           3             0        0        0        0   \n",
              "4311      1       0           3             2        0   181140        0   \n",
              "4312      1       1           3             1        0    25986        0   \n",
              "\n",
              "      regency  abandoned_cars  recupered_cars  ...  maipu  nunoa  penalolen  \\\n",
              "0           5               0               0  ...      0      0          0   \n",
              "1           4               0               0  ...      0      0          0   \n",
              "3          13               0               0  ...      0      0          0   \n",
              "4           5               0               0  ...      0      0          0   \n",
              "5          20               0               0  ...      0      0          0   \n",
              "...       ...             ...             ...  ...    ...    ...        ...   \n",
              "4308        8               0               0  ...      0      0          0   \n",
              "4309        5               0               0  ...      0      0          0   \n",
              "4310        5               0               0  ...      0      0          0   \n",
              "4311       12               3               0  ...      0      0          0   \n",
              "4312        5               0               0  ...      0      0          0   \n",
              "\n",
              "      providencia  puente alto  puerto montt  punta arenas  rancagua  \\\n",
              "0               0            0             0             0         0   \n",
              "1               0            1             0             0         0   \n",
              "3               0            0             0             0         0   \n",
              "4               0            0             0             0         0   \n",
              "5               0            0             0             0         0   \n",
              "...           ...          ...           ...           ...       ...   \n",
              "4308            0            0             0             0         0   \n",
              "4309            0            0             0             0         0   \n",
              "4310            0            0             0             0         0   \n",
              "4311            0            0             0             0         0   \n",
              "4312            0            0             0             0         0   \n",
              "\n",
              "      buy_campaing  z  \n",
              "0                0  0  \n",
              "1                0  0  \n",
              "3                0  0  \n",
              "4                0  0  \n",
              "5                0  0  \n",
              "...            ... ..  \n",
              "4308             1  2  \n",
              "4309             1  2  \n",
              "4310             1  2  \n",
              "4311             1  2  \n",
              "4312             1  2  \n",
              "\n",
              "[3812 rows x 30 columns]"
            ],
            "text/html": [
              "\n",
              "  <div id=\"df-9eb0f91b-6eff-4503-a250-f085ef0f2683\">\n",
              "    <div class=\"colab-df-container\">\n",
              "      <div>\n",
              "<style scoped>\n",
              "    .dataframe tbody tr th:only-of-type {\n",
              "        vertical-align: middle;\n",
              "    }\n",
              "\n",
              "    .dataframe tbody tr th {\n",
              "        vertical-align: top;\n",
              "    }\n",
              "\n",
              "    .dataframe thead th {\n",
              "        text-align: right;\n",
              "    }\n",
              "</style>\n",
              "<table border=\"1\" class=\"dataframe\">\n",
              "  <thead>\n",
              "    <tr style=\"text-align: right;\">\n",
              "      <th></th>\n",
              "      <th>group</th>\n",
              "      <th>gender</th>\n",
              "      <th>year_birth</th>\n",
              "      <th>total_orders</th>\n",
              "      <th>total_m</th>\n",
              "      <th>total_f</th>\n",
              "      <th>total_o</th>\n",
              "      <th>regency</th>\n",
              "      <th>abandoned_cars</th>\n",
              "      <th>recupered_cars</th>\n",
              "      <th>...</th>\n",
              "      <th>maipu</th>\n",
              "      <th>nunoa</th>\n",
              "      <th>penalolen</th>\n",
              "      <th>providencia</th>\n",
              "      <th>puente alto</th>\n",
              "      <th>puerto montt</th>\n",
              "      <th>punta arenas</th>\n",
              "      <th>rancagua</th>\n",
              "      <th>buy_campaing</th>\n",
              "      <th>z</th>\n",
              "    </tr>\n",
              "  </thead>\n",
              "  <tbody>\n",
              "    <tr>\n",
              "      <th>0</th>\n",
              "      <td>0</td>\n",
              "      <td>1</td>\n",
              "      <td>2</td>\n",
              "      <td>0</td>\n",
              "      <td>0</td>\n",
              "      <td>0</td>\n",
              "      <td>0</td>\n",
              "      <td>5</td>\n",
              "      <td>0</td>\n",
              "      <td>0</td>\n",
              "      <td>...</td>\n",
              "      <td>0</td>\n",
              "      <td>0</td>\n",
              "      <td>0</td>\n",
              "      <td>0</td>\n",
              "      <td>0</td>\n",
              "      <td>0</td>\n",
              "      <td>0</td>\n",
              "      <td>0</td>\n",
              "      <td>0</td>\n",
              "      <td>0</td>\n",
              "    </tr>\n",
              "    <tr>\n",
              "      <th>1</th>\n",
              "      <td>0</td>\n",
              "      <td>1</td>\n",
              "      <td>1</td>\n",
              "      <td>0</td>\n",
              "      <td>0</td>\n",
              "      <td>0</td>\n",
              "      <td>0</td>\n",
              "      <td>4</td>\n",
              "      <td>0</td>\n",
              "      <td>0</td>\n",
              "      <td>...</td>\n",
              "      <td>0</td>\n",
              "      <td>0</td>\n",
              "      <td>0</td>\n",
              "      <td>0</td>\n",
              "      <td>1</td>\n",
              "      <td>0</td>\n",
              "      <td>0</td>\n",
              "      <td>0</td>\n",
              "      <td>0</td>\n",
              "      <td>0</td>\n",
              "    </tr>\n",
              "    <tr>\n",
              "      <th>3</th>\n",
              "      <td>0</td>\n",
              "      <td>1</td>\n",
              "      <td>1</td>\n",
              "      <td>0</td>\n",
              "      <td>0</td>\n",
              "      <td>0</td>\n",
              "      <td>0</td>\n",
              "      <td>13</td>\n",
              "      <td>0</td>\n",
              "      <td>0</td>\n",
              "      <td>...</td>\n",
              "      <td>0</td>\n",
              "      <td>0</td>\n",
              "      <td>0</td>\n",
              "      <td>0</td>\n",
              "      <td>0</td>\n",
              "      <td>0</td>\n",
              "      <td>0</td>\n",
              "      <td>0</td>\n",
              "      <td>0</td>\n",
              "      <td>0</td>\n",
              "    </tr>\n",
              "    <tr>\n",
              "      <th>4</th>\n",
              "      <td>0</td>\n",
              "      <td>0</td>\n",
              "      <td>2</td>\n",
              "      <td>1</td>\n",
              "      <td>0</td>\n",
              "      <td>12899</td>\n",
              "      <td>0</td>\n",
              "      <td>5</td>\n",
              "      <td>0</td>\n",
              "      <td>0</td>\n",
              "      <td>...</td>\n",
              "      <td>0</td>\n",
              "      <td>0</td>\n",
              "      <td>0</td>\n",
              "      <td>0</td>\n",
              "      <td>0</td>\n",
              "      <td>0</td>\n",
              "      <td>0</td>\n",
              "      <td>0</td>\n",
              "      <td>0</td>\n",
              "      <td>0</td>\n",
              "    </tr>\n",
              "    <tr>\n",
              "      <th>5</th>\n",
              "      <td>0</td>\n",
              "      <td>1</td>\n",
              "      <td>1</td>\n",
              "      <td>0</td>\n",
              "      <td>0</td>\n",
              "      <td>0</td>\n",
              "      <td>0</td>\n",
              "      <td>20</td>\n",
              "      <td>0</td>\n",
              "      <td>0</td>\n",
              "      <td>...</td>\n",
              "      <td>0</td>\n",
              "      <td>0</td>\n",
              "      <td>0</td>\n",
              "      <td>0</td>\n",
              "      <td>0</td>\n",
              "      <td>0</td>\n",
              "      <td>0</td>\n",
              "      <td>0</td>\n",
              "      <td>0</td>\n",
              "      <td>0</td>\n",
              "    </tr>\n",
              "    <tr>\n",
              "      <th>...</th>\n",
              "      <td>...</td>\n",
              "      <td>...</td>\n",
              "      <td>...</td>\n",
              "      <td>...</td>\n",
              "      <td>...</td>\n",
              "      <td>...</td>\n",
              "      <td>...</td>\n",
              "      <td>...</td>\n",
              "      <td>...</td>\n",
              "      <td>...</td>\n",
              "      <td>...</td>\n",
              "      <td>...</td>\n",
              "      <td>...</td>\n",
              "      <td>...</td>\n",
              "      <td>...</td>\n",
              "      <td>...</td>\n",
              "      <td>...</td>\n",
              "      <td>...</td>\n",
              "      <td>...</td>\n",
              "      <td>...</td>\n",
              "      <td>...</td>\n",
              "    </tr>\n",
              "    <tr>\n",
              "      <th>4308</th>\n",
              "      <td>1</td>\n",
              "      <td>1</td>\n",
              "      <td>3</td>\n",
              "      <td>0</td>\n",
              "      <td>0</td>\n",
              "      <td>0</td>\n",
              "      <td>0</td>\n",
              "      <td>8</td>\n",
              "      <td>0</td>\n",
              "      <td>0</td>\n",
              "      <td>...</td>\n",
              "      <td>0</td>\n",
              "      <td>0</td>\n",
              "      <td>0</td>\n",
              "      <td>0</td>\n",
              "      <td>0</td>\n",
              "      <td>0</td>\n",
              "      <td>0</td>\n",
              "      <td>0</td>\n",
              "      <td>1</td>\n",
              "      <td>2</td>\n",
              "    </tr>\n",
              "    <tr>\n",
              "      <th>4309</th>\n",
              "      <td>1</td>\n",
              "      <td>0</td>\n",
              "      <td>3</td>\n",
              "      <td>1</td>\n",
              "      <td>0</td>\n",
              "      <td>31136</td>\n",
              "      <td>0</td>\n",
              "      <td>5</td>\n",
              "      <td>0</td>\n",
              "      <td>0</td>\n",
              "      <td>...</td>\n",
              "      <td>0</td>\n",
              "      <td>0</td>\n",
              "      <td>0</td>\n",
              "      <td>0</td>\n",
              "      <td>0</td>\n",
              "      <td>0</td>\n",
              "      <td>0</td>\n",
              "      <td>0</td>\n",
              "      <td>1</td>\n",
              "      <td>2</td>\n",
              "    </tr>\n",
              "    <tr>\n",
              "      <th>4310</th>\n",
              "      <td>1</td>\n",
              "      <td>1</td>\n",
              "      <td>3</td>\n",
              "      <td>0</td>\n",
              "      <td>0</td>\n",
              "      <td>0</td>\n",
              "      <td>0</td>\n",
              "      <td>5</td>\n",
              "      <td>0</td>\n",
              "      <td>0</td>\n",
              "      <td>...</td>\n",
              "      <td>0</td>\n",
              "      <td>0</td>\n",
              "      <td>0</td>\n",
              "      <td>0</td>\n",
              "      <td>0</td>\n",
              "      <td>0</td>\n",
              "      <td>0</td>\n",
              "      <td>0</td>\n",
              "      <td>1</td>\n",
              "      <td>2</td>\n",
              "    </tr>\n",
              "    <tr>\n",
              "      <th>4311</th>\n",
              "      <td>1</td>\n",
              "      <td>0</td>\n",
              "      <td>3</td>\n",
              "      <td>2</td>\n",
              "      <td>0</td>\n",
              "      <td>181140</td>\n",
              "      <td>0</td>\n",
              "      <td>12</td>\n",
              "      <td>3</td>\n",
              "      <td>0</td>\n",
              "      <td>...</td>\n",
              "      <td>0</td>\n",
              "      <td>0</td>\n",
              "      <td>0</td>\n",
              "      <td>0</td>\n",
              "      <td>0</td>\n",
              "      <td>0</td>\n",
              "      <td>0</td>\n",
              "      <td>0</td>\n",
              "      <td>1</td>\n",
              "      <td>2</td>\n",
              "    </tr>\n",
              "    <tr>\n",
              "      <th>4312</th>\n",
              "      <td>1</td>\n",
              "      <td>1</td>\n",
              "      <td>3</td>\n",
              "      <td>1</td>\n",
              "      <td>0</td>\n",
              "      <td>25986</td>\n",
              "      <td>0</td>\n",
              "      <td>5</td>\n",
              "      <td>0</td>\n",
              "      <td>0</td>\n",
              "      <td>...</td>\n",
              "      <td>0</td>\n",
              "      <td>0</td>\n",
              "      <td>0</td>\n",
              "      <td>0</td>\n",
              "      <td>0</td>\n",
              "      <td>0</td>\n",
              "      <td>0</td>\n",
              "      <td>0</td>\n",
              "      <td>1</td>\n",
              "      <td>2</td>\n",
              "    </tr>\n",
              "  </tbody>\n",
              "</table>\n",
              "<p>3812 rows × 30 columns</p>\n",
              "</div>\n",
              "      <button class=\"colab-df-convert\" onclick=\"convertToInteractive('df-9eb0f91b-6eff-4503-a250-f085ef0f2683')\"\n",
              "              title=\"Convert this dataframe to an interactive table.\"\n",
              "              style=\"display:none;\">\n",
              "        \n",
              "  <svg xmlns=\"http://www.w3.org/2000/svg\" height=\"24px\"viewBox=\"0 0 24 24\"\n",
              "       width=\"24px\">\n",
              "    <path d=\"M0 0h24v24H0V0z\" fill=\"none\"/>\n",
              "    <path d=\"M18.56 5.44l.94 2.06.94-2.06 2.06-.94-2.06-.94-.94-2.06-.94 2.06-2.06.94zm-11 1L8.5 8.5l.94-2.06 2.06-.94-2.06-.94L8.5 2.5l-.94 2.06-2.06.94zm10 10l.94 2.06.94-2.06 2.06-.94-2.06-.94-.94-2.06-.94 2.06-2.06.94z\"/><path d=\"M17.41 7.96l-1.37-1.37c-.4-.4-.92-.59-1.43-.59-.52 0-1.04.2-1.43.59L10.3 9.45l-7.72 7.72c-.78.78-.78 2.05 0 2.83L4 21.41c.39.39.9.59 1.41.59.51 0 1.02-.2 1.41-.59l7.78-7.78 2.81-2.81c.8-.78.8-2.07 0-2.86zM5.41 20L4 18.59l7.72-7.72 1.47 1.35L5.41 20z\"/>\n",
              "  </svg>\n",
              "      </button>\n",
              "      \n",
              "  <style>\n",
              "    .colab-df-container {\n",
              "      display:flex;\n",
              "      flex-wrap:wrap;\n",
              "      gap: 12px;\n",
              "    }\n",
              "\n",
              "    .colab-df-convert {\n",
              "      background-color: #E8F0FE;\n",
              "      border: none;\n",
              "      border-radius: 50%;\n",
              "      cursor: pointer;\n",
              "      display: none;\n",
              "      fill: #1967D2;\n",
              "      height: 32px;\n",
              "      padding: 0 0 0 0;\n",
              "      width: 32px;\n",
              "    }\n",
              "\n",
              "    .colab-df-convert:hover {\n",
              "      background-color: #E2EBFA;\n",
              "      box-shadow: 0px 1px 2px rgba(60, 64, 67, 0.3), 0px 1px 3px 1px rgba(60, 64, 67, 0.15);\n",
              "      fill: #174EA6;\n",
              "    }\n",
              "\n",
              "    [theme=dark] .colab-df-convert {\n",
              "      background-color: #3B4455;\n",
              "      fill: #D2E3FC;\n",
              "    }\n",
              "\n",
              "    [theme=dark] .colab-df-convert:hover {\n",
              "      background-color: #434B5C;\n",
              "      box-shadow: 0px 1px 3px 1px rgba(0, 0, 0, 0.15);\n",
              "      filter: drop-shadow(0px 1px 2px rgba(0, 0, 0, 0.3));\n",
              "      fill: #FFFFFF;\n",
              "    }\n",
              "  </style>\n",
              "\n",
              "      <script>\n",
              "        const buttonEl =\n",
              "          document.querySelector('#df-9eb0f91b-6eff-4503-a250-f085ef0f2683 button.colab-df-convert');\n",
              "        buttonEl.style.display =\n",
              "          google.colab.kernel.accessAllowed ? 'block' : 'none';\n",
              "\n",
              "        async function convertToInteractive(key) {\n",
              "          const element = document.querySelector('#df-9eb0f91b-6eff-4503-a250-f085ef0f2683');\n",
              "          const dataTable =\n",
              "            await google.colab.kernel.invokeFunction('convertToInteractive',\n",
              "                                                     [key], {});\n",
              "          if (!dataTable) return;\n",
              "\n",
              "          const docLinkHtml = 'Like what you see? Visit the ' +\n",
              "            '<a target=\"_blank\" href=https://colab.research.google.com/notebooks/data_table.ipynb>data table notebook</a>'\n",
              "            + ' to learn more about interactive tables.';\n",
              "          element.innerHTML = '';\n",
              "          dataTable['output_type'] = 'display_data';\n",
              "          await google.colab.output.renderOutput(dataTable, element);\n",
              "          const docLink = document.createElement('div');\n",
              "          docLink.innerHTML = docLinkHtml;\n",
              "          element.appendChild(docLink);\n",
              "        }\n",
              "      </script>\n",
              "    </div>\n",
              "  </div>\n",
              "  "
            ]
          },
          "metadata": {},
          "execution_count": 12
        }
      ],
      "source": [
        "smot =  SMOTEENN(sampling_strategy=0.6) \n",
        "\n",
        "over_x = train_dataset # data set balanceado \n",
        "over_y = over_x['buy_campaing'] # columna de compras \n",
        "\n",
        "del( over_x['buy_campaing']  )\n",
        "del( over_x['z']  )\n",
        "\n",
        "over_x_res, over_y_res = smot.fit_resample(over_x, over_y)\n",
        "X_train = pd.DataFrame(over_x_res, columns=over_x.columns)\n",
        "final_data = pd.DataFrame(data=X_train)\n",
        "final_data = final_data.assign( buy_campaing = over_y_res)\n",
        "final_data\n",
        "\n",
        "# Balanceo\n",
        "dataset_final = utils.balance( final_data )\n",
        "dataset_final = utils.set_transformed_outcome( dataset_final )\n",
        "dataset_final"
      ]
    },
    {
      "cell_type": "code",
      "execution_count": null,
      "metadata": {
        "colab": {
          "base_uri": "https://localhost:8080/"
        },
        "id": "jPuWXFTmKz6D",
        "outputId": "89619c82-839e-4fc4-b5ca-dd8cb894a102"
      },
      "outputs": [
        {
          "output_type": "execute_result",
          "data": {
            "text/plain": [
              "(3812, 30)"
            ]
          },
          "metadata": {},
          "execution_count": 13
        }
      ],
      "source": [
        "dataset_final.shape"
      ]
    },
    {
      "cell_type": "markdown",
      "source": [
        "# III.- Redes "
      ],
      "metadata": {
        "id": "AbcUgyGtxEH0"
      }
    },
    {
      "cell_type": "markdown",
      "metadata": {
        "id": "G4v8nMuAS5OW"
      },
      "source": [
        "## 4.- CEVAE"
      ]
    },
    {
      "cell_type": "code",
      "source": [
        "data_aux = dataset_final.copy()\n",
        "#data_aux = data_aux.drop('z', axis =1)   \n",
        "target  = data_aux['buy_campaing'].values\n",
        "treatment  = data_aux['group'].values"
      ],
      "metadata": {
        "id": "i4ATFNV6gu17"
      },
      "execution_count": null,
      "outputs": []
    },
    {
      "cell_type": "code",
      "source": [
        "X_tr, X_val, y_tr, y_val, treat_tr, treat_val = train_test_split(\n",
        "   data_aux, target, treatment, test_size=0.5 , stratify = target #random_state=42\n",
        ")"
      ],
      "metadata": {
        "id": "xVdsUHZLgoHF"
      },
      "execution_count": null,
      "outputs": []
    },
    {
      "cell_type": "code",
      "execution_count": null,
      "metadata": {
        "id": "SQ0NkR17Tbtu"
      },
      "outputs": [],
      "source": [
        "x_train = np.asarray(X_tr).astype(np.float32)\n",
        "t_train = np.asarray(treat_tr).astype(np.float32)\n",
        "y_train =  np.asarray(y_tr).astype(np.float32)\n",
        "x_val =  np.asarray(X_val).astype(np.float32)"
      ]
    },
    {
      "cell_type": "code",
      "execution_count": null,
      "metadata": {
        "id": "GSYWDXrcThxt"
      },
      "outputs": [],
      "source": [
        "# cevae model settings\n",
        "num_layers = 5\n",
        "num_epochs = 30\n",
        "batch_size = 10\n",
        "\n",
        "outcome_dist = \"normal\"\n",
        "latent_dim = 5\n",
        "hidden_dim = 5\n",
        "learning_rate = 0.001\n",
        "learning_rate_decay = 0.001\n",
        "\n",
        "\n",
        "cevae = CEVAE(outcome_dist=outcome_dist,\n",
        "              latent_dim=latent_dim,\n",
        "              hidden_dim=hidden_dim,\n",
        "              num_epochs=num_epochs,\n",
        "              batch_size=batch_size,\n",
        "              learning_rate=learning_rate,\n",
        "              learning_rate_decay=learning_rate_decay,\n",
        "              num_layers=num_layers)"
      ]
    },
    {
      "cell_type": "code",
      "execution_count": null,
      "metadata": {
        "id": "0ad-4dG0Tk4m",
        "colab": {
          "base_uri": "https://localhost:8080/"
        },
        "outputId": "1d5bd19a-e2aa-497f-b1d9-b38a089cb894"
      },
      "outputs": [
        {
          "output_type": "stream",
          "name": "stderr",
          "text": [
            "To copy construct from a tensor, it is recommended to use sourceTensor.clone().detach() or sourceTensor.clone().detach().requires_grad_(True), rather than torch.tensor(sourceTensor).\n",
            "To copy construct from a tensor, it is recommended to use sourceTensor.clone().detach() or sourceTensor.clone().detach().requires_grad_(True), rather than torch.tensor(sourceTensor).\n",
            "To copy construct from a tensor, it is recommended to use sourceTensor.clone().detach() or sourceTensor.clone().detach().requires_grad_(True), rather than torch.tensor(sourceTensor).\n",
            "INFO:pyro.contrib.cevae:Training with 191 minibatches per epoch\n",
            "DEBUG:pyro.contrib.cevae:step     0 loss = 39.653\n",
            "DEBUG:pyro.contrib.cevae:step   100 loss = 59.7978\n",
            "DEBUG:pyro.contrib.cevae:step   200 loss = 58.6028\n",
            "DEBUG:pyro.contrib.cevae:step   300 loss = 69.5604\n",
            "DEBUG:pyro.contrib.cevae:step   400 loss = 49.1046\n",
            "DEBUG:pyro.contrib.cevae:step   500 loss = 37.202\n",
            "DEBUG:pyro.contrib.cevae:step   600 loss = 49.2003\n",
            "DEBUG:pyro.contrib.cevae:step   700 loss = 39.5413\n",
            "DEBUG:pyro.contrib.cevae:step   800 loss = 61.1114\n",
            "DEBUG:pyro.contrib.cevae:step   900 loss = 43.9743\n",
            "DEBUG:pyro.contrib.cevae:step  1000 loss = 41.0505\n",
            "DEBUG:pyro.contrib.cevae:step  1100 loss = 74.5654\n",
            "DEBUG:pyro.contrib.cevae:step  1200 loss = 68.3353\n",
            "DEBUG:pyro.contrib.cevae:step  1300 loss = 62.9295\n",
            "DEBUG:pyro.contrib.cevae:step  1400 loss = 40.9845\n",
            "DEBUG:pyro.contrib.cevae:step  1500 loss = 48.5729\n",
            "DEBUG:pyro.contrib.cevae:step  1600 loss = 64.4123\n",
            "DEBUG:pyro.contrib.cevae:step  1700 loss = 54.2383\n",
            "DEBUG:pyro.contrib.cevae:step  1800 loss = 70.9402\n",
            "DEBUG:pyro.contrib.cevae:step  1900 loss = 39.9901\n",
            "DEBUG:pyro.contrib.cevae:step  2000 loss = 60.7012\n",
            "DEBUG:pyro.contrib.cevae:step  2100 loss = 82.547\n",
            "DEBUG:pyro.contrib.cevae:step  2200 loss = 94.8663\n",
            "DEBUG:pyro.contrib.cevae:step  2300 loss = 38.0379\n",
            "DEBUG:pyro.contrib.cevae:step  2400 loss = 63.7783\n",
            "DEBUG:pyro.contrib.cevae:step  2500 loss = 48.154\n",
            "DEBUG:pyro.contrib.cevae:step  2600 loss = 84.4501\n",
            "DEBUG:pyro.contrib.cevae:step  2700 loss = 45.1573\n",
            "DEBUG:pyro.contrib.cevae:step  2800 loss = 44.2927\n",
            "DEBUG:pyro.contrib.cevae:step  2900 loss = 53.8265\n",
            "DEBUG:pyro.contrib.cevae:step  3000 loss = 48.1775\n",
            "DEBUG:pyro.contrib.cevae:step  3100 loss = 105.952\n",
            "DEBUG:pyro.contrib.cevae:step  3200 loss = 71.1465\n",
            "DEBUG:pyro.contrib.cevae:step  3300 loss = 68.6734\n",
            "DEBUG:pyro.contrib.cevae:step  3400 loss = 43.0992\n",
            "DEBUG:pyro.contrib.cevae:step  3500 loss = 43.8488\n",
            "DEBUG:pyro.contrib.cevae:step  3600 loss = 53.2411\n",
            "DEBUG:pyro.contrib.cevae:step  3700 loss = 63.7217\n",
            "DEBUG:pyro.contrib.cevae:step  3800 loss = 65.9342\n",
            "DEBUG:pyro.contrib.cevae:step  3900 loss = 85.918\n",
            "DEBUG:pyro.contrib.cevae:step  4000 loss = 75.5458\n",
            "DEBUG:pyro.contrib.cevae:step  4100 loss = 92.2334\n",
            "DEBUG:pyro.contrib.cevae:step  4200 loss = 49.3587\n",
            "DEBUG:pyro.contrib.cevae:step  4300 loss = 41.1898\n",
            "DEBUG:pyro.contrib.cevae:step  4400 loss = 68.139\n",
            "DEBUG:pyro.contrib.cevae:step  4500 loss = 52.5572\n",
            "DEBUG:pyro.contrib.cevae:step  4600 loss = 36.1534\n",
            "DEBUG:pyro.contrib.cevae:step  4700 loss = 65.2076\n",
            "DEBUG:pyro.contrib.cevae:step  4800 loss = 44.0723\n",
            "DEBUG:pyro.contrib.cevae:step  4900 loss = 47.541\n",
            "DEBUG:pyro.contrib.cevae:step  5000 loss = 78.3472\n",
            "DEBUG:pyro.contrib.cevae:step  5100 loss = 58.4791\n",
            "DEBUG:pyro.contrib.cevae:step  5200 loss = 78.7569\n",
            "DEBUG:pyro.contrib.cevae:step  5300 loss = 46.291\n",
            "DEBUG:pyro.contrib.cevae:step  5400 loss = 45.5278\n",
            "DEBUG:pyro.contrib.cevae:step  5500 loss = 47.7919\n",
            "DEBUG:pyro.contrib.cevae:step  5600 loss = 52.7365\n",
            "DEBUG:pyro.contrib.cevae:step  5700 loss = 89.7287\n"
          ]
        }
      ],
      "source": [
        "# fit\n",
        "losses = cevae.fit(X=torch.tensor(x_train, dtype=torch.float),\n",
        "                   treatment=torch.tensor(t_train, dtype=torch.float),\n",
        "                   y=torch.tensor(y_train, dtype=torch.float))"
      ]
    },
    {
      "cell_type": "code",
      "execution_count": null,
      "metadata": {
        "id": "mNWO4mtXUbQJ",
        "colab": {
          "base_uri": "https://localhost:8080/"
        },
        "outputId": "d6504f68-8ddc-4a07-d327-7ac401c618c6"
      },
      "outputs": [
        {
          "output_type": "stream",
          "name": "stderr",
          "text": [
            "INFO:pyro.contrib.cevae:Evaluating 191 minibatches\n",
            "DEBUG:pyro.contrib.cevae:batch ate = 0.386202\n",
            "DEBUG:pyro.contrib.cevae:batch ate = 0.389197\n",
            "DEBUG:pyro.contrib.cevae:batch ate = 0.386288\n",
            "DEBUG:pyro.contrib.cevae:batch ate = 0.376655\n",
            "DEBUG:pyro.contrib.cevae:batch ate = 0.385669\n",
            "DEBUG:pyro.contrib.cevae:batch ate = 0.37273\n",
            "DEBUG:pyro.contrib.cevae:batch ate = 0.37918\n",
            "DEBUG:pyro.contrib.cevae:batch ate = 0.389245\n",
            "DEBUG:pyro.contrib.cevae:batch ate = 0.386215\n",
            "DEBUG:pyro.contrib.cevae:batch ate = 0.382327\n",
            "DEBUG:pyro.contrib.cevae:batch ate = 0.395272\n",
            "DEBUG:pyro.contrib.cevae:batch ate = 0.385427\n",
            "DEBUG:pyro.contrib.cevae:batch ate = 0.395396\n",
            "DEBUG:pyro.contrib.cevae:batch ate = 0.383078\n",
            "DEBUG:pyro.contrib.cevae:batch ate = 0.379077\n",
            "DEBUG:pyro.contrib.cevae:batch ate = 0.383179\n",
            "DEBUG:pyro.contrib.cevae:batch ate = 0.382904\n",
            "DEBUG:pyro.contrib.cevae:batch ate = 0.382373\n",
            "DEBUG:pyro.contrib.cevae:batch ate = 0.386671\n",
            "DEBUG:pyro.contrib.cevae:batch ate = 0.385025\n",
            "DEBUG:pyro.contrib.cevae:batch ate = 0.382095\n",
            "DEBUG:pyro.contrib.cevae:batch ate = 0.379915\n",
            "DEBUG:pyro.contrib.cevae:batch ate = 0.382394\n",
            "DEBUG:pyro.contrib.cevae:batch ate = 0.386171\n",
            "DEBUG:pyro.contrib.cevae:batch ate = 0.380526\n",
            "DEBUG:pyro.contrib.cevae:batch ate = 0.388914\n",
            "DEBUG:pyro.contrib.cevae:batch ate = 0.389183\n",
            "DEBUG:pyro.contrib.cevae:batch ate = 0.388924\n",
            "DEBUG:pyro.contrib.cevae:batch ate = 0.388748\n",
            "DEBUG:pyro.contrib.cevae:batch ate = 0.389217\n",
            "DEBUG:pyro.contrib.cevae:batch ate = 0.392307\n",
            "DEBUG:pyro.contrib.cevae:batch ate = 0.386169\n",
            "DEBUG:pyro.contrib.cevae:batch ate = 0.382722\n",
            "DEBUG:pyro.contrib.cevae:batch ate = 0.389107\n",
            "DEBUG:pyro.contrib.cevae:batch ate = 0.378774\n",
            "DEBUG:pyro.contrib.cevae:batch ate = 0.38589\n",
            "DEBUG:pyro.contrib.cevae:batch ate = 0.380053\n",
            "DEBUG:pyro.contrib.cevae:batch ate = 0.385258\n",
            "DEBUG:pyro.contrib.cevae:batch ate = 0.378558\n",
            "DEBUG:pyro.contrib.cevae:batch ate = 0.373537\n",
            "DEBUG:pyro.contrib.cevae:batch ate = 0.385201\n",
            "DEBUG:pyro.contrib.cevae:batch ate = 0.383215\n",
            "DEBUG:pyro.contrib.cevae:batch ate = 0.389014\n",
            "DEBUG:pyro.contrib.cevae:batch ate = 0.385693\n",
            "DEBUG:pyro.contrib.cevae:batch ate = 0.382762\n",
            "DEBUG:pyro.contrib.cevae:batch ate = 0.382713\n",
            "DEBUG:pyro.contrib.cevae:batch ate = 0.385342\n",
            "DEBUG:pyro.contrib.cevae:batch ate = 0.382405\n",
            "DEBUG:pyro.contrib.cevae:batch ate = 0.382233\n",
            "DEBUG:pyro.contrib.cevae:batch ate = 0.382426\n",
            "DEBUG:pyro.contrib.cevae:batch ate = 0.382766\n",
            "DEBUG:pyro.contrib.cevae:batch ate = 0.385885\n",
            "DEBUG:pyro.contrib.cevae:batch ate = 0.385944\n",
            "DEBUG:pyro.contrib.cevae:batch ate = 0.386291\n",
            "DEBUG:pyro.contrib.cevae:batch ate = 0.385337\n",
            "DEBUG:pyro.contrib.cevae:batch ate = 0.386289\n",
            "DEBUG:pyro.contrib.cevae:batch ate = 0.382796\n",
            "DEBUG:pyro.contrib.cevae:batch ate = 0.385851\n",
            "DEBUG:pyro.contrib.cevae:batch ate = 0.378526\n",
            "DEBUG:pyro.contrib.cevae:batch ate = 0.389317\n",
            "DEBUG:pyro.contrib.cevae:batch ate = 0.391885\n",
            "DEBUG:pyro.contrib.cevae:batch ate = 0.389428\n",
            "DEBUG:pyro.contrib.cevae:batch ate = 0.391968\n",
            "DEBUG:pyro.contrib.cevae:batch ate = 0.389096\n",
            "DEBUG:pyro.contrib.cevae:batch ate = 0.382689\n",
            "DEBUG:pyro.contrib.cevae:batch ate = 0.382181\n",
            "DEBUG:pyro.contrib.cevae:batch ate = 0.370735\n",
            "DEBUG:pyro.contrib.cevae:batch ate = 0.392126\n",
            "DEBUG:pyro.contrib.cevae:batch ate = 0.385643\n",
            "DEBUG:pyro.contrib.cevae:batch ate = 0.383445\n",
            "DEBUG:pyro.contrib.cevae:batch ate = 0.379792\n",
            "DEBUG:pyro.contrib.cevae:batch ate = 0.392098\n",
            "DEBUG:pyro.contrib.cevae:batch ate = 0.392527\n",
            "DEBUG:pyro.contrib.cevae:batch ate = 0.385269\n",
            "DEBUG:pyro.contrib.cevae:batch ate = 0.389016\n",
            "DEBUG:pyro.contrib.cevae:batch ate = 0.382792\n",
            "DEBUG:pyro.contrib.cevae:batch ate = 0.39221\n",
            "DEBUG:pyro.contrib.cevae:batch ate = 0.383535\n",
            "DEBUG:pyro.contrib.cevae:batch ate = 0.382302\n",
            "DEBUG:pyro.contrib.cevae:batch ate = 0.381944\n",
            "DEBUG:pyro.contrib.cevae:batch ate = 0.385959\n",
            "DEBUG:pyro.contrib.cevae:batch ate = 0.381703\n",
            "DEBUG:pyro.contrib.cevae:batch ate = 0.38311\n",
            "DEBUG:pyro.contrib.cevae:batch ate = 0.386215\n",
            "DEBUG:pyro.contrib.cevae:batch ate = 0.385231\n",
            "DEBUG:pyro.contrib.cevae:batch ate = 0.381854\n",
            "DEBUG:pyro.contrib.cevae:batch ate = 0.379833\n",
            "DEBUG:pyro.contrib.cevae:batch ate = 0.385184\n",
            "DEBUG:pyro.contrib.cevae:batch ate = 0.382394\n",
            "DEBUG:pyro.contrib.cevae:batch ate = 0.376582\n",
            "DEBUG:pyro.contrib.cevae:batch ate = 0.382858\n",
            "DEBUG:pyro.contrib.cevae:batch ate = 0.376273\n",
            "DEBUG:pyro.contrib.cevae:batch ate = 0.386139\n",
            "DEBUG:pyro.contrib.cevae:batch ate = 0.380362\n",
            "DEBUG:pyro.contrib.cevae:batch ate = 0.386089\n",
            "DEBUG:pyro.contrib.cevae:batch ate = 0.386544\n",
            "DEBUG:pyro.contrib.cevae:batch ate = 0.391991\n",
            "DEBUG:pyro.contrib.cevae:batch ate = 0.391952\n",
            "DEBUG:pyro.contrib.cevae:batch ate = 0.379437\n",
            "DEBUG:pyro.contrib.cevae:batch ate = 0.375983\n",
            "DEBUG:pyro.contrib.cevae:batch ate = 0.373412\n",
            "DEBUG:pyro.contrib.cevae:batch ate = 0.382794\n",
            "DEBUG:pyro.contrib.cevae:batch ate = 0.389303\n",
            "DEBUG:pyro.contrib.cevae:batch ate = 0.382792\n",
            "DEBUG:pyro.contrib.cevae:batch ate = 0.389239\n",
            "DEBUG:pyro.contrib.cevae:batch ate = 0.388517\n",
            "DEBUG:pyro.contrib.cevae:batch ate = 0.385614\n",
            "DEBUG:pyro.contrib.cevae:batch ate = 0.385889\n",
            "DEBUG:pyro.contrib.cevae:batch ate = 0.382788\n",
            "DEBUG:pyro.contrib.cevae:batch ate = 0.388786\n",
            "DEBUG:pyro.contrib.cevae:batch ate = 0.375162\n",
            "DEBUG:pyro.contrib.cevae:batch ate = 0.382284\n",
            "DEBUG:pyro.contrib.cevae:batch ate = 0.385424\n",
            "DEBUG:pyro.contrib.cevae:batch ate = 0.382693\n",
            "DEBUG:pyro.contrib.cevae:batch ate = 0.386283\n",
            "DEBUG:pyro.contrib.cevae:batch ate = 0.382559\n",
            "DEBUG:pyro.contrib.cevae:batch ate = 0.376545\n",
            "DEBUG:pyro.contrib.cevae:batch ate = 0.373364\n",
            "DEBUG:pyro.contrib.cevae:batch ate = 0.377161\n",
            "DEBUG:pyro.contrib.cevae:batch ate = 0.382101\n",
            "DEBUG:pyro.contrib.cevae:batch ate = 0.385957\n",
            "DEBUG:pyro.contrib.cevae:batch ate = 0.386233\n",
            "DEBUG:pyro.contrib.cevae:batch ate = 0.379931\n",
            "DEBUG:pyro.contrib.cevae:batch ate = 0.385243\n",
            "DEBUG:pyro.contrib.cevae:batch ate = 0.383274\n",
            "DEBUG:pyro.contrib.cevae:batch ate = 0.389027\n",
            "DEBUG:pyro.contrib.cevae:batch ate = 0.385867\n",
            "DEBUG:pyro.contrib.cevae:batch ate = 0.378702\n",
            "DEBUG:pyro.contrib.cevae:batch ate = 0.379179\n",
            "DEBUG:pyro.contrib.cevae:batch ate = 0.379346\n",
            "DEBUG:pyro.contrib.cevae:batch ate = 0.39556\n",
            "DEBUG:pyro.contrib.cevae:batch ate = 0.385474\n",
            "DEBUG:pyro.contrib.cevae:batch ate = 0.376203\n",
            "DEBUG:pyro.contrib.cevae:batch ate = 0.38698\n",
            "DEBUG:pyro.contrib.cevae:batch ate = 0.381768\n",
            "DEBUG:pyro.contrib.cevae:batch ate = 0.38531\n",
            "DEBUG:pyro.contrib.cevae:batch ate = 0.3828\n",
            "DEBUG:pyro.contrib.cevae:batch ate = 0.386435\n",
            "DEBUG:pyro.contrib.cevae:batch ate = 0.386083\n",
            "DEBUG:pyro.contrib.cevae:batch ate = 0.382518\n",
            "DEBUG:pyro.contrib.cevae:batch ate = 0.379785\n",
            "DEBUG:pyro.contrib.cevae:batch ate = 0.379153\n",
            "DEBUG:pyro.contrib.cevae:batch ate = 0.389242\n",
            "DEBUG:pyro.contrib.cevae:batch ate = 0.386992\n",
            "DEBUG:pyro.contrib.cevae:batch ate = 0.373306\n",
            "DEBUG:pyro.contrib.cevae:batch ate = 0.388544\n",
            "DEBUG:pyro.contrib.cevae:batch ate = 0.382173\n",
            "DEBUG:pyro.contrib.cevae:batch ate = 0.376904\n",
            "DEBUG:pyro.contrib.cevae:batch ate = 0.386657\n",
            "DEBUG:pyro.contrib.cevae:batch ate = 0.388974\n",
            "DEBUG:pyro.contrib.cevae:batch ate = 0.392294\n",
            "DEBUG:pyro.contrib.cevae:batch ate = 0.382303\n",
            "DEBUG:pyro.contrib.cevae:batch ate = 0.386023\n",
            "DEBUG:pyro.contrib.cevae:batch ate = 0.380107\n",
            "DEBUG:pyro.contrib.cevae:batch ate = 0.382491\n",
            "DEBUG:pyro.contrib.cevae:batch ate = 0.379322\n",
            "DEBUG:pyro.contrib.cevae:batch ate = 0.395381\n",
            "DEBUG:pyro.contrib.cevae:batch ate = 0.382764\n",
            "DEBUG:pyro.contrib.cevae:batch ate = 0.392497\n",
            "DEBUG:pyro.contrib.cevae:batch ate = 0.37654\n",
            "DEBUG:pyro.contrib.cevae:batch ate = 0.385633\n",
            "DEBUG:pyro.contrib.cevae:batch ate = 0.392075\n",
            "DEBUG:pyro.contrib.cevae:batch ate = 0.382094\n",
            "DEBUG:pyro.contrib.cevae:batch ate = 0.39525\n",
            "DEBUG:pyro.contrib.cevae:batch ate = 0.379552\n",
            "DEBUG:pyro.contrib.cevae:batch ate = 0.383092\n",
            "DEBUG:pyro.contrib.cevae:batch ate = 0.382391\n",
            "DEBUG:pyro.contrib.cevae:batch ate = 0.385183\n",
            "DEBUG:pyro.contrib.cevae:batch ate = 0.38639\n",
            "DEBUG:pyro.contrib.cevae:batch ate = 0.39199\n",
            "DEBUG:pyro.contrib.cevae:batch ate = 0.388371\n",
            "DEBUG:pyro.contrib.cevae:batch ate = 0.389374\n",
            "DEBUG:pyro.contrib.cevae:batch ate = 0.379684\n",
            "DEBUG:pyro.contrib.cevae:batch ate = 0.389035\n",
            "DEBUG:pyro.contrib.cevae:batch ate = 0.389152\n",
            "DEBUG:pyro.contrib.cevae:batch ate = 0.386105\n",
            "DEBUG:pyro.contrib.cevae:batch ate = 0.37907\n",
            "DEBUG:pyro.contrib.cevae:batch ate = 0.382436\n",
            "DEBUG:pyro.contrib.cevae:batch ate = 0.395835\n",
            "DEBUG:pyro.contrib.cevae:batch ate = 0.379299\n",
            "DEBUG:pyro.contrib.cevae:batch ate = 0.387987\n",
            "DEBUG:pyro.contrib.cevae:batch ate = 0.389318\n",
            "DEBUG:pyro.contrib.cevae:batch ate = 0.385858\n",
            "DEBUG:pyro.contrib.cevae:batch ate = 0.385678\n",
            "DEBUG:pyro.contrib.cevae:batch ate = 0.382463\n",
            "DEBUG:pyro.contrib.cevae:batch ate = 0.392511\n",
            "DEBUG:pyro.contrib.cevae:batch ate = 0.385845\n",
            "DEBUG:pyro.contrib.cevae:batch ate = 0.379989\n",
            "DEBUG:pyro.contrib.cevae:batch ate = 0.386237\n",
            "DEBUG:pyro.contrib.cevae:batch ate = 0.379273\n",
            "DEBUG:pyro.contrib.cevae:batch ate = 0.387815\n",
            "INFO:pyro.contrib.cevae:Evaluating 191 minibatches\n",
            "DEBUG:pyro.contrib.cevae:batch ate = 0.373162\n",
            "DEBUG:pyro.contrib.cevae:batch ate = 0.385596\n",
            "DEBUG:pyro.contrib.cevae:batch ate = 0.388707\n",
            "DEBUG:pyro.contrib.cevae:batch ate = 0.376079\n",
            "DEBUG:pyro.contrib.cevae:batch ate = 0.383015\n",
            "DEBUG:pyro.contrib.cevae:batch ate = 0.376222\n",
            "DEBUG:pyro.contrib.cevae:batch ate = 0.376744\n",
            "DEBUG:pyro.contrib.cevae:batch ate = 0.385803\n",
            "DEBUG:pyro.contrib.cevae:batch ate = 0.376531\n",
            "DEBUG:pyro.contrib.cevae:batch ate = 0.392389\n",
            "DEBUG:pyro.contrib.cevae:batch ate = 0.385612\n",
            "DEBUG:pyro.contrib.cevae:batch ate = 0.379561\n",
            "DEBUG:pyro.contrib.cevae:batch ate = 0.382772\n",
            "DEBUG:pyro.contrib.cevae:batch ate = 0.382134\n",
            "DEBUG:pyro.contrib.cevae:batch ate = 0.379931\n",
            "DEBUG:pyro.contrib.cevae:batch ate = 0.392657\n",
            "DEBUG:pyro.contrib.cevae:batch ate = 0.3857\n",
            "DEBUG:pyro.contrib.cevae:batch ate = 0.389318\n",
            "DEBUG:pyro.contrib.cevae:batch ate = 0.388567\n",
            "DEBUG:pyro.contrib.cevae:batch ate = 0.383181\n",
            "DEBUG:pyro.contrib.cevae:batch ate = 0.386387\n",
            "DEBUG:pyro.contrib.cevae:batch ate = 0.386378\n",
            "DEBUG:pyro.contrib.cevae:batch ate = 0.382211\n",
            "DEBUG:pyro.contrib.cevae:batch ate = 0.382335\n",
            "DEBUG:pyro.contrib.cevae:batch ate = 0.391695\n",
            "DEBUG:pyro.contrib.cevae:batch ate = 0.389072\n",
            "DEBUG:pyro.contrib.cevae:batch ate = 0.389409\n",
            "DEBUG:pyro.contrib.cevae:batch ate = 0.388811\n",
            "DEBUG:pyro.contrib.cevae:batch ate = 0.38887\n",
            "DEBUG:pyro.contrib.cevae:batch ate = 0.382221\n",
            "DEBUG:pyro.contrib.cevae:batch ate = 0.388902\n",
            "DEBUG:pyro.contrib.cevae:batch ate = 0.382852\n",
            "DEBUG:pyro.contrib.cevae:batch ate = 0.38872\n",
            "DEBUG:pyro.contrib.cevae:batch ate = 0.379619\n",
            "DEBUG:pyro.contrib.cevae:batch ate = 0.385715\n",
            "DEBUG:pyro.contrib.cevae:batch ate = 0.386082\n",
            "DEBUG:pyro.contrib.cevae:batch ate = 0.382921\n",
            "DEBUG:pyro.contrib.cevae:batch ate = 0.379332\n",
            "DEBUG:pyro.contrib.cevae:batch ate = 0.375556\n",
            "DEBUG:pyro.contrib.cevae:batch ate = 0.389519\n",
            "DEBUG:pyro.contrib.cevae:batch ate = 0.385887\n",
            "DEBUG:pyro.contrib.cevae:batch ate = 0.386804\n",
            "DEBUG:pyro.contrib.cevae:batch ate = 0.37617\n",
            "DEBUG:pyro.contrib.cevae:batch ate = 0.382867\n",
            "DEBUG:pyro.contrib.cevae:batch ate = 0.382426\n",
            "DEBUG:pyro.contrib.cevae:batch ate = 0.370096\n",
            "DEBUG:pyro.contrib.cevae:batch ate = 0.382995\n",
            "DEBUG:pyro.contrib.cevae:batch ate = 0.382483\n",
            "DEBUG:pyro.contrib.cevae:batch ate = 0.38504\n",
            "DEBUG:pyro.contrib.cevae:batch ate = 0.376675\n",
            "DEBUG:pyro.contrib.cevae:batch ate = 0.383154\n",
            "DEBUG:pyro.contrib.cevae:batch ate = 0.385498\n",
            "DEBUG:pyro.contrib.cevae:batch ate = 0.382826\n",
            "DEBUG:pyro.contrib.cevae:batch ate = 0.383247\n",
            "DEBUG:pyro.contrib.cevae:batch ate = 0.382959\n",
            "DEBUG:pyro.contrib.cevae:batch ate = 0.385805\n",
            "DEBUG:pyro.contrib.cevae:batch ate = 0.382175\n",
            "DEBUG:pyro.contrib.cevae:batch ate = 0.379695\n",
            "DEBUG:pyro.contrib.cevae:batch ate = 0.382721\n",
            "DEBUG:pyro.contrib.cevae:batch ate = 0.385763\n",
            "DEBUG:pyro.contrib.cevae:batch ate = 0.385103\n",
            "DEBUG:pyro.contrib.cevae:batch ate = 0.38925\n",
            "DEBUG:pyro.contrib.cevae:batch ate = 0.386493\n",
            "DEBUG:pyro.contrib.cevae:batch ate = 0.385594\n",
            "DEBUG:pyro.contrib.cevae:batch ate = 0.392486\n",
            "DEBUG:pyro.contrib.cevae:batch ate = 0.38265\n",
            "DEBUG:pyro.contrib.cevae:batch ate = 0.384986\n",
            "DEBUG:pyro.contrib.cevae:batch ate = 0.37675\n",
            "DEBUG:pyro.contrib.cevae:batch ate = 0.380118\n",
            "DEBUG:pyro.contrib.cevae:batch ate = 0.385241\n",
            "DEBUG:pyro.contrib.cevae:batch ate = 0.376654\n",
            "DEBUG:pyro.contrib.cevae:batch ate = 0.389697\n",
            "DEBUG:pyro.contrib.cevae:batch ate = 0.379352\n",
            "DEBUG:pyro.contrib.cevae:batch ate = 0.385994\n",
            "DEBUG:pyro.contrib.cevae:batch ate = 0.388869\n",
            "DEBUG:pyro.contrib.cevae:batch ate = 0.391991\n",
            "DEBUG:pyro.contrib.cevae:batch ate = 0.383046\n",
            "DEBUG:pyro.contrib.cevae:batch ate = 0.379447\n",
            "DEBUG:pyro.contrib.cevae:batch ate = 0.391646\n",
            "DEBUG:pyro.contrib.cevae:batch ate = 0.379297\n",
            "DEBUG:pyro.contrib.cevae:batch ate = 0.388271\n",
            "DEBUG:pyro.contrib.cevae:batch ate = 0.382014\n",
            "DEBUG:pyro.contrib.cevae:batch ate = 0.383181\n",
            "DEBUG:pyro.contrib.cevae:batch ate = 0.386116\n",
            "DEBUG:pyro.contrib.cevae:batch ate = 0.379241\n",
            "DEBUG:pyro.contrib.cevae:batch ate = 0.384228\n",
            "DEBUG:pyro.contrib.cevae:batch ate = 0.385479\n",
            "DEBUG:pyro.contrib.cevae:batch ate = 0.383959\n",
            "DEBUG:pyro.contrib.cevae:batch ate = 0.382937\n",
            "DEBUG:pyro.contrib.cevae:batch ate = 0.373475\n",
            "DEBUG:pyro.contrib.cevae:batch ate = 0.38611\n",
            "DEBUG:pyro.contrib.cevae:batch ate = 0.382262\n",
            "DEBUG:pyro.contrib.cevae:batch ate = 0.383365\n",
            "DEBUG:pyro.contrib.cevae:batch ate = 0.388855\n",
            "DEBUG:pyro.contrib.cevae:batch ate = 0.389021\n",
            "DEBUG:pyro.contrib.cevae:batch ate = 0.376328\n",
            "DEBUG:pyro.contrib.cevae:batch ate = 0.386205\n",
            "DEBUG:pyro.contrib.cevae:batch ate = 0.389547\n",
            "DEBUG:pyro.contrib.cevae:batch ate = 0.379555\n",
            "DEBUG:pyro.contrib.cevae:batch ate = 0.386051\n",
            "DEBUG:pyro.contrib.cevae:batch ate = 0.385205\n",
            "DEBUG:pyro.contrib.cevae:batch ate = 0.379637\n",
            "DEBUG:pyro.contrib.cevae:batch ate = 0.386119\n",
            "DEBUG:pyro.contrib.cevae:batch ate = 0.382321\n",
            "DEBUG:pyro.contrib.cevae:batch ate = 0.376506\n",
            "DEBUG:pyro.contrib.cevae:batch ate = 0.378453\n",
            "DEBUG:pyro.contrib.cevae:batch ate = 0.378824\n",
            "DEBUG:pyro.contrib.cevae:batch ate = 0.389298\n",
            "DEBUG:pyro.contrib.cevae:batch ate = 0.382428\n",
            "DEBUG:pyro.contrib.cevae:batch ate = 0.389256\n",
            "DEBUG:pyro.contrib.cevae:batch ate = 0.379874\n",
            "DEBUG:pyro.contrib.cevae:batch ate = 0.379235\n",
            "DEBUG:pyro.contrib.cevae:batch ate = 0.386759\n",
            "DEBUG:pyro.contrib.cevae:batch ate = 0.382203\n",
            "DEBUG:pyro.contrib.cevae:batch ate = 0.385651\n",
            "DEBUG:pyro.contrib.cevae:batch ate = 0.383299\n",
            "DEBUG:pyro.contrib.cevae:batch ate = 0.382618\n",
            "DEBUG:pyro.contrib.cevae:batch ate = 0.376746\n",
            "DEBUG:pyro.contrib.cevae:batch ate = 0.385937\n",
            "DEBUG:pyro.contrib.cevae:batch ate = 0.388726\n",
            "DEBUG:pyro.contrib.cevae:batch ate = 0.379632\n",
            "DEBUG:pyro.contrib.cevae:batch ate = 0.385909\n",
            "DEBUG:pyro.contrib.cevae:batch ate = 0.385912\n",
            "DEBUG:pyro.contrib.cevae:batch ate = 0.376536\n",
            "DEBUG:pyro.contrib.cevae:batch ate = 0.383279\n",
            "DEBUG:pyro.contrib.cevae:batch ate = 0.388479\n",
            "DEBUG:pyro.contrib.cevae:batch ate = 0.377125\n",
            "DEBUG:pyro.contrib.cevae:batch ate = 0.379721\n",
            "DEBUG:pyro.contrib.cevae:batch ate = 0.385688\n",
            "DEBUG:pyro.contrib.cevae:batch ate = 0.379891\n",
            "DEBUG:pyro.contrib.cevae:batch ate = 0.371998\n",
            "DEBUG:pyro.contrib.cevae:batch ate = 0.385766\n",
            "DEBUG:pyro.contrib.cevae:batch ate = 0.388826\n",
            "DEBUG:pyro.contrib.cevae:batch ate = 0.382975\n",
            "DEBUG:pyro.contrib.cevae:batch ate = 0.379326\n",
            "DEBUG:pyro.contrib.cevae:batch ate = 0.381829\n",
            "DEBUG:pyro.contrib.cevae:batch ate = 0.386465\n",
            "DEBUG:pyro.contrib.cevae:batch ate = 0.38865\n",
            "DEBUG:pyro.contrib.cevae:batch ate = 0.395149\n",
            "DEBUG:pyro.contrib.cevae:batch ate = 0.392435\n",
            "DEBUG:pyro.contrib.cevae:batch ate = 0.380093\n",
            "DEBUG:pyro.contrib.cevae:batch ate = 0.385902\n",
            "DEBUG:pyro.contrib.cevae:batch ate = 0.385939\n",
            "DEBUG:pyro.contrib.cevae:batch ate = 0.383645\n",
            "DEBUG:pyro.contrib.cevae:batch ate = 0.376644\n",
            "DEBUG:pyro.contrib.cevae:batch ate = 0.380131\n",
            "DEBUG:pyro.contrib.cevae:batch ate = 0.389094\n",
            "DEBUG:pyro.contrib.cevae:batch ate = 0.383089\n",
            "DEBUG:pyro.contrib.cevae:batch ate = 0.38261\n",
            "DEBUG:pyro.contrib.cevae:batch ate = 0.382804\n",
            "DEBUG:pyro.contrib.cevae:batch ate = 0.379142\n",
            "DEBUG:pyro.contrib.cevae:batch ate = 0.3861\n",
            "DEBUG:pyro.contrib.cevae:batch ate = 0.379778\n",
            "DEBUG:pyro.contrib.cevae:batch ate = 0.382351\n",
            "DEBUG:pyro.contrib.cevae:batch ate = 0.376537\n",
            "DEBUG:pyro.contrib.cevae:batch ate = 0.389005\n",
            "DEBUG:pyro.contrib.cevae:batch ate = 0.385886\n",
            "DEBUG:pyro.contrib.cevae:batch ate = 0.376354\n",
            "DEBUG:pyro.contrib.cevae:batch ate = 0.385804\n",
            "DEBUG:pyro.contrib.cevae:batch ate = 0.379118\n",
            "DEBUG:pyro.contrib.cevae:batch ate = 0.384558\n",
            "DEBUG:pyro.contrib.cevae:batch ate = 0.383501\n",
            "DEBUG:pyro.contrib.cevae:batch ate = 0.382734\n",
            "DEBUG:pyro.contrib.cevae:batch ate = 0.386108\n",
            "DEBUG:pyro.contrib.cevae:batch ate = 0.383066\n",
            "DEBUG:pyro.contrib.cevae:batch ate = 0.386375\n",
            "DEBUG:pyro.contrib.cevae:batch ate = 0.383063\n",
            "DEBUG:pyro.contrib.cevae:batch ate = 0.38266\n",
            "DEBUG:pyro.contrib.cevae:batch ate = 0.392614\n",
            "DEBUG:pyro.contrib.cevae:batch ate = 0.395064\n",
            "DEBUG:pyro.contrib.cevae:batch ate = 0.38246\n",
            "DEBUG:pyro.contrib.cevae:batch ate = 0.385906\n",
            "DEBUG:pyro.contrib.cevae:batch ate = 0.379334\n",
            "DEBUG:pyro.contrib.cevae:batch ate = 0.376303\n",
            "DEBUG:pyro.contrib.cevae:batch ate = 0.395394\n",
            "DEBUG:pyro.contrib.cevae:batch ate = 0.375703\n",
            "DEBUG:pyro.contrib.cevae:batch ate = 0.382426\n",
            "DEBUG:pyro.contrib.cevae:batch ate = 0.386156\n",
            "DEBUG:pyro.contrib.cevae:batch ate = 0.386345\n",
            "DEBUG:pyro.contrib.cevae:batch ate = 0.37934\n",
            "DEBUG:pyro.contrib.cevae:batch ate = 0.376736\n",
            "DEBUG:pyro.contrib.cevae:batch ate = 0.382909\n",
            "DEBUG:pyro.contrib.cevae:batch ate = 0.382907\n",
            "DEBUG:pyro.contrib.cevae:batch ate = 0.382026\n",
            "DEBUG:pyro.contrib.cevae:batch ate = 0.386542\n",
            "DEBUG:pyro.contrib.cevae:batch ate = 0.389201\n",
            "DEBUG:pyro.contrib.cevae:batch ate = 0.383436\n",
            "DEBUG:pyro.contrib.cevae:batch ate = 0.385754\n",
            "DEBUG:pyro.contrib.cevae:batch ate = 0.381847\n",
            "DEBUG:pyro.contrib.cevae:batch ate = 0.379371\n",
            "DEBUG:pyro.contrib.cevae:batch ate = 0.37813\n"
          ]
        }
      ],
      "source": [
        "ite_train = cevae.predict(x_train)\n",
        "ite_val = cevae.predict(x_val)"
      ]
    },
    {
      "cell_type": "code",
      "source": [
        "sd = np.std(ite_val)\n",
        "sd"
      ],
      "metadata": {
        "id": "WSQbznR9nu0p",
        "colab": {
          "base_uri": "https://localhost:8080/"
        },
        "outputId": "5b7b65b2-27e6-4d05-bad0-d9225ec21296"
      },
      "execution_count": null,
      "outputs": [
        {
          "output_type": "execute_result",
          "data": {
            "text/plain": [
              "0.015819205"
            ]
          },
          "metadata": {},
          "execution_count": 29
        }
      ]
    },
    {
      "cell_type": "code",
      "execution_count": null,
      "metadata": {
        "id": "Vwz1EsI9SUF1",
        "colab": {
          "base_uri": "https://localhost:8080/",
          "height": 708
        },
        "outputId": "f266e124-9615-46a3-ae23-0d520eded4f1"
      },
      "outputs": [
        {
          "output_type": "stream",
          "name": "stdout",
          "text": [
            "uplift_at_k: 0.3697\n",
            "qini_auc_score: 0.0043\n",
            "cv_uplift_auc_score: 0.0083\n",
            "0.38448507 0.38361946\n"
          ]
        },
        {
          "output_type": "display_data",
          "data": {
            "text/plain": [
              "<Figure size 432x288 with 1 Axes>"
            ],
            "image/png": "[encoded data removed]"
          },
          "metadata": {}
        },
        {
          "output_type": "display_data",
          "data": {
            "text/plain": [
              "<Figure size 432x288 with 1 Axes>"
            ],
            "image/png": "[encoded data removed]"
          },
          "metadata": {}
        }
      ],
      "source": [
        "CVAE_score = uplift_at_k(y_true=y_val, uplift=ite_val, treatment=treat_val, strategy='by_group', k=0.9)\n",
        "\n",
        "cv_qini_auc_score = qini_auc_score(y_true=y_val, uplift=ite_val, treatment=treat_val)\n",
        "\n",
        "cv_uplift_auc_score = uplift_auc_score(y_true=y_val, uplift=ite_val, treatment=treat_val)\n",
        "\n",
        "uplift_cvae = plot_uplift_curve(y_val, ite_val, treat_val, perfect=True, name='CEVAE');\n",
        "uplift_cvae.figure_.suptitle(\"Curva Uplift\");\n",
        "\n",
        "\n",
        "\n",
        "quini_cvae = plot_qini_curve(y_val, ite_val, treat_val, perfect=True, name='CEVAE');\n",
        "quini_cvae.figure_.suptitle(\"Curva Qini\");\n",
        "\n",
        "print(f'uplift_at_k: {CVAE_score:.4f}')\n",
        "\n",
        "print(f'qini_auc_score: {cv_qini_auc_score:.4f}')\n",
        "\n",
        "print(f'cv_uplift_auc_score: {cv_uplift_auc_score:.4f}')\n",
        "\n",
        "ate_train = ite_train.mean()\n",
        "ate_val = ite_val.mean()\n",
        "print(ate_train, ate_val)\n",
        "\n",
        "\n",
        "\n",
        "\n"
      ]
    },
    {
      "cell_type": "markdown",
      "metadata": {
        "id": "6KKKsnBsisET"
      },
      "source": [
        "## 5.- SIAMESA CNN\n"
      ]
    },
    {
      "cell_type": "code",
      "source": [
        "utils.batch_size = 10\n",
        "utils.activation = 'relu'\n",
        "utils.dropout_rate = 0.01\n",
        "utils.nb_epoch = 30\n",
        "utils.neurons = 20\n",
        "utils.optimizer = 'adam'"
      ],
      "metadata": {
        "id": "4HYod8q2JC2r"
      },
      "execution_count": null,
      "outputs": []
    },
    {
      "cell_type": "code",
      "execution_count": null,
      "metadata": {
        "id": "q01K4LiPoeJg"
      },
      "outputs": [],
      "source": [
        "# classifier.add(Conv1D(filters=32, kernel_size=3, activation='relu' ,name=\"Conv1D_2\"))\n",
        " # classifier.add(Conv1D(filters=16, kernel_size=2, activation='relu' ,name=\"Conv1D_3\"))\n",
        " # classifier.add(Conv1D(filters=8, kernel_size=4, activation='relu' ,name=\"Conv1D_2\"))\n",
        " \n",
        "def build_siamese_model( optimizer = utils.optimizer ,dropout_rate = utils.dropout_rate, activation =\"relu\"):    \n",
        "  classifier = Sequential()\n",
        "  classifier.add(Conv1D(filters=64, kernel_size=6, activation='relu' ,name=\"Conv1D_1\"))\n",
        "  classifier.add(MaxPooling1D(pool_size=2))\n",
        "  classifier.add(Conv1D(filters=32, kernel_size=4, activation='relu' ,name=\"Conv1D_2\"))\n",
        "  classifier.add(Conv1D(filters=16, kernel_size=2, activation='relu' ,name=\"Conv1D_3\"))\n",
        "  classifier.add(Flatten())\n",
        "  classifier.add(Dropout(0.01))\n",
        "  classifier.add(Dense(units = 50, activation = \"relu\", name=\"layer2\"))\n",
        "  classifier.add(Dense(units = 1, kernel_initializer = \"uniform\",  activation = \"sigmoid\", name=\"layer3\"))\n",
        "  return classifier"
      ]
    },
    {
      "cell_type": "code",
      "execution_count": null,
      "metadata": {
        "id": "5hd7T-0snrmn"
      },
      "outputs": [],
      "source": [
        "def subtraction(vectors):\n",
        "  (u1, u0) = vectors\n",
        "  subtracted = keras.layers.subtract([u1, u0])\n",
        "  return subtracted \n",
        "\n",
        "#verdadero uplift\n",
        "#µT = T µ1 + (1 − T)µ0\n",
        "def u_t(vectors):\n",
        "  (u1, u0, t) = vectors\n",
        "  mul_u1_t = keras.layers.multiply([u1, t])\n",
        "  mul_u0_t = keras.layers.multiply([u0, t])\n",
        "  aux1 = keras.layers.add([mul_u1_t, u0])\n",
        "  aux2 = keras.layers.subtract([aux1, mul_u0_t])  \n",
        "  return aux2\n",
        "\n",
        "## consultar al profe sobre esta funcion\n",
        "def pi_y(vectors):\n",
        "  (featsA, featsB, y) = vectors\n",
        "  aux1 = keras.layers.add([featsA, featsB])\n",
        "  aux2 = Lambda(lambda inputs: inputs[0] / (inputs[1]+tf.constant(1e-6)))([featsA, aux1])\n",
        "  aux3=tf.constant(1.)-featsA\n",
        "  aux4=tf.constant(1.)-featsB\n",
        "  aux5= keras.layers.add([aux3, aux4])\n",
        "  aux6 = Lambda(lambda inputs: inputs[0] / (inputs[1]+tf.constant(1e-6)))([aux3, aux5]) #para evitar division con 0\n",
        "  aux7= keras.layers.multiply([y, aux2])\n",
        "  aux8=tf.constant(1.)-y\n",
        "  aux9= keras.layers.multiply([aux8, aux6])\n",
        "  aux10 = keras.layers.add([aux7, aux9])  \n",
        "  return aux10\n",
        "\n",
        "def II_y( vectors ):\n",
        "  (u1, u0, y) = vectors\n",
        "  II_1 = Lambda(lambda x: x[0]/(x[1]+x[0]))([u1,u0])\n",
        "  II_0 = Lambda(lambda x: (1-x[0])/((1-x[1])+(1-x[0])))([u1,u0])\n",
        "  mul_u1_y = keras.layers.multiply([u1, y])\n",
        "  mul_u0_y = keras.layers.multiply([u0, y])\n",
        "  aux1 = keras.layers.add([mul_u1_y, u0])\n",
        "  aux2 = keras.layers.subtract([aux1, mul_u0_y])\n",
        "  return aux2\n",
        "\n"
      ]
    },
    {
      "cell_type": "code",
      "source": [
        "data_aux = dataset_final.copy()\n",
        "target  = data_aux['buy_campaing'].values\n",
        "treatment  = data_aux['group'].values\n"
      ],
      "metadata": {
        "id": "-_cHF11xzonZ"
      },
      "execution_count": null,
      "outputs": []
    },
    {
      "cell_type": "code",
      "source": [
        "X_tr, X_val, y_tr, y_val, treat_tr, treat_val = train_test_split(\n",
        "   data_aux, target, treatment, test_size=0.5 , stratify = target #random_state=42\n",
        ")\n",
        "#y_test = y[i_test,]\n",
        "y_test = target[treat_val,]\n",
        "tt=data_aux['group'].values\n",
        "t_train=tt[treat_tr,]\n",
        "t_test=tt[treat_val,]\n",
        "z = X_tr['z'].values"
      ],
      "metadata": {
        "id": "_HJrKS9mzy4g"
      },
      "execution_count": null,
      "outputs": []
    },
    {
      "cell_type": "code",
      "source": [
        "##omitimos los binarios en el escalado\n",
        "X = X_tr.iloc[:, 0:28] #no consideramos z ni y\n",
        "colums_convert = X.columns[~X.isin([0,1]).all()]\n",
        "features = X[ X.columns ]\n",
        "\n",
        "ct = ColumnTransformer([\n",
        "        ('data', StandardScaler(), colums_convert )\n",
        "    ], remainder='passthrough')\n",
        "\n",
        "#escalamos el dataset de entrenamiento\n",
        "dataset_convert = ct.fit_transform(features)\n",
        "\n",
        "#escalamos el dataset de prueba y exportamos la data en la data \n",
        "np.savetxt(\"data_pred.csv\", test_dataset , delimiter=\",\")\n",
        "\n",
        "\n",
        "X = test_dataset.iloc[:, 0:28] #no consideramos z ni y\n",
        "features = X[ X.columns ]\n",
        "\n",
        "h = X_tr.iloc[:, 0:28]\n",
        "features2 = h[ h.columns ]\n",
        "\n",
        "f = X_val.iloc[:, 0:28]\n",
        "features3 = f[ f.columns ]\n",
        "\n",
        "#X_prueba = dataset_convert.iloc[:, 0:28]\n",
        "\n",
        "test_dataset_convert = ct.fit_transform(features)\n",
        "train_dataset_convert = ct.fit_transform(features2)\n",
        "val_dataset_convert = ct.fit_transform(features3)"
      ],
      "metadata": {
        "id": "MKx2g4Xn7JMx"
      },
      "execution_count": null,
      "outputs": []
    },
    {
      "cell_type": "code",
      "source": [
        "#estas as usaremos para las predicciones\n",
        "y_to_pred = test_dataset['buy_campaing'].values\n",
        "z_to_pred = test_dataset['z'].values\n",
        "t_to_pred = test_dataset['group'].values\n",
        "X_to_pred = test_dataset_convert"
      ],
      "metadata": {
        "id": "UN_PYnoO2bJx"
      },
      "execution_count": null,
      "outputs": []
    },
    {
      "cell_type": "code",
      "source": [
        "y_to_train = X_tr['buy_campaing'].values\n",
        "z_to_train = X_tr['z'].values\n",
        "t_to_train = X_tr['group'].values\n",
        "X_to_train = train_dataset_convert"
      ],
      "metadata": {
        "id": "Mmmfmk7lN5EZ"
      },
      "execution_count": null,
      "outputs": []
    },
    {
      "cell_type": "code",
      "source": [
        "y_to_val = X_val['buy_campaing'].values\n",
        "z_to_val = X_val['z'].values\n",
        "t_to_val = X_val['group'].values\n",
        "X_to_val = val_dataset_convert"
      ],
      "metadata": {
        "id": "kmFyHSxYdBA0"
      },
      "execution_count": null,
      "outputs": []
    },
    {
      "cell_type": "code",
      "source": [
        "x_train = np.asarray(X_tr).astype(np.float32)\n",
        "t_train = np.asarray(treat_tr).astype(np.float32)\n",
        "y_train =  np.asarray(y_tr).astype(np.float32)\n",
        "x_val =  np.asarray(X_val).astype(np.float32)\n",
        "\n",
        "\n",
        "y_val = np.asarray(y_val).astype(np.float32)\n",
        "y_to_pred = np.asarray(y_to_pred).astype(np.float32)\n",
        "X_to_pred = np.asarray(X_to_pred).astype(np.float32)\n",
        "\n",
        "y_to_train = np.asarray(y_to_train).astype(np.float32)\n",
        "X_to_train = np.asarray(X_to_train).astype(np.float32)\n",
        "\n",
        "y_to_val = np.asarray(y_to_val).astype(np.float32)\n",
        "X_to_val = np.asarray(X_to_val).astype(np.float32)\n",
        "\n",
        "\n"
      ],
      "metadata": {
        "id": "zrFIEBsq0tGg"
      },
      "execution_count": null,
      "outputs": []
    },
    {
      "cell_type": "code",
      "source": [
        "#Generación de pares\n",
        "#entrenamiento\n",
        "#pairTrain  , labelTrain=utils.make_pairs(x_train, y_train)\n",
        "(pairTrain, labelTrain) = utils.make_pairs(X_to_train, z)\n",
        "#validacion\n",
        "#pairTest , labelTest  =  utils.make_pairs(x_val, y_val)\n",
        "(pairTest_val, labelTest_val) = utils.make_pairs(X_to_val, y_to_val)\n",
        "#prueba\n",
        "\n",
        "(pairTest_to_pred, labelTest_to_pred) = utils.make_pairs(X_to_pred, y_to_pred)\n",
        "\n",
        "(pairTest_to_train, labelTest_to_train) = utils.make_pairs(X_to_train, y_to_train)\n"
      ],
      "metadata": {
        "id": "aGauAio0wJJ3"
      },
      "execution_count": null,
      "outputs": []
    },
    {
      "cell_type": "code",
      "source": [
        "model_checkpoint_callback_2 = tf.keras.callbacks.ModelCheckpoint(\n",
        "    filepath='best_model_2.hdf5',\n",
        "    save_weights_only=True,\n",
        "    monitor='val_loss',\n",
        "    mode='min',\n",
        "    save_best_only=True)"
      ],
      "metadata": {
        "id": "DfBl3W4TFK06"
      },
      "execution_count": null,
      "outputs": []
    },
    {
      "cell_type": "code",
      "source": [
        "model_checkpoint_callback_1 = tf.keras.callbacks.ModelCheckpoint(\n",
        "    filepath='best_model_2.hdf5',\n",
        "    save_weights_only=True,\n",
        "    monitor='val_loss',\n",
        "    mode='min',\n",
        "    save_best_only=True)"
      ],
      "metadata": {
        "id": "s9OgpfmZhhbE"
      },
      "execution_count": null,
      "outputs": []
    },
    {
      "cell_type": "code",
      "execution_count": null,
      "metadata": {
        "id": "99A3_GmUmscP"
      },
      "outputs": [],
      "source": [
        "#configuracion de entradas\n",
        "\n",
        "utils.shape0 = (29,1)\n",
        "\n",
        "inputA = Input( utils.shape0 )\n",
        "inputB = Input( utils.shape0 )\n",
        "\n",
        "inputT = Input( utils.shape1)\n",
        "\n",
        "label_z = Input(utils.shape1)\n",
        "\n",
        "label_y = Input(utils.shape1)\n",
        "\n",
        "label_t = Input(utils.shape1)\n",
        "\n",
        "\n",
        "featureExtractor = build_siamese_model()\n",
        "featsA = featureExtractor(inputA)\n",
        "featsB = featureExtractor(inputB)"
      ]
    },
    {
      "cell_type": "code",
      "execution_count": null,
      "metadata": {
        "id": "PEdXmZNtrvYg"
      },
      "outputs": [],
      "source": [
        "u1_u0 =  Lambda(subtraction)([featsA, featsB])\n",
        "II_y =  Lambda(II_y)([featsA, featsB, label_y])\n",
        "piy =  Lambda(pi_y)([featsA, featsB, label_y])\n",
        "ut =  Lambda(u_t)([featsA, featsB, inputT])\n",
        "\n",
        "loss = K.mean(((1-utils.alpha))*mean_squared_error(label_z,u1_u0) + (utils.alpha)*binary_crossentropy(label_y, ut ))\n",
        "\n",
        "model_alter = Model(inputs=[inputA, inputB, inputT, label_t, label_y], outputs=[u1_u0,II_y,ut])\n",
        "\n"
      ]
    },
    {
      "cell_type": "code",
      "source": [
        "opt = tf.optimizers.Adam(learning_rate=0.0005)\n",
        "\n",
        "model = Model(inputs=[inputA, inputB, inputT, label_z, label_y], outputs=[u1_u0,piy,ut])\n",
        "\n",
        "\n",
        "model.add_loss(loss)\n",
        "model.compile(opt)\n",
        "# model.summary()"
      ],
      "metadata": {
        "id": "yUn5Xgf-haX9"
      },
      "execution_count": null,
      "outputs": []
    },
    {
      "cell_type": "code",
      "source": [
        "#history1 = model.fit([pairTest_to_train,t_to_train,labelTest_to_train,y_to_train], \tbatch_size= utils.batch_size, \n",
        "                        ##  epochs= utils.epochs ,callbacks=[model_checkpoint_callback_1] , verbose=0 )"
      ],
      "metadata": {
        "id": "FqXcFLNXeHUX"
      },
      "execution_count": null,
      "outputs": []
    },
    {
      "cell_type": "code",
      "execution_count": null,
      "metadata": {
        "id": "01WtHSh1omto"
      },
      "outputs": [],
      "source": [
        "loss_alter = K.mean(((1-utils.alpha))*binary_crossentropy(label_t,II_y) + (utils.alpha)*binary_crossentropy(label_y, ut ))\n",
        "model_alter.add_loss(loss_alter)\n",
        "\n"
      ]
    },
    {
      "cell_type": "code",
      "execution_count": null,
      "metadata": {
        "id": "jq7oNA-PprtY"
      },
      "outputs": [],
      "source": [
        "model_alter.compile( opt )"
      ]
    },
    {
      "cell_type": "code",
      "source": [
        "history2 = model_alter.fit([pairTest_to_train,t_to_train,labelTest_to_train,y_to_train], \tbatch_size= utils.batch_size, \n",
        "                          epochs=15  ,callbacks=[model_checkpoint_callback_2] , verbose=False )"
      ],
      "metadata": {
        "id": "hZnAHAVqLltr"
      },
      "execution_count": null,
      "outputs": []
    },
    {
      "cell_type": "code",
      "source": [
        "plt.xlabel(\"#Epocas\")\n",
        "plt.ylabel(\"Magnitud de perdida\")\n",
        "plt.plot(history2.history[\"loss\"])"
      ],
      "metadata": {
        "colab": {
          "base_uri": "https://localhost:8080/",
          "height": 317
        },
        "id": "Zg9ApXp09Gdu",
        "outputId": "c2987c22-e767-4171-c767-18d329b32e06"
      },
      "execution_count": null,
      "outputs": [
        {
          "output_type": "execute_result",
          "data": {
            "text/plain": [
              "[<matplotlib.lines.Line2D at 0x7fe38f1f4c40>]"
            ]
          },
          "metadata": {},
          "execution_count": 53
        },
        {
          "output_type": "display_data",
          "data": {
            "text/plain": [
              "<Figure size 432x288 with 1 Axes>"
            ],
            "image/png": "[encoded data removed]"
          },
          "metadata": {}
        }
      ]
    },
    {
      "cell_type": "code",
      "source": [
        "ul = model_alter.predict([pairTest_val,t_to_val,labelTest_val,y_to_val])\n",
        "#ul_alt = model_alter.predict([pairTest_val,t_to_val,labelTest_val,y_to_val])\n",
        "ul_aux = ul[1].copy()\n",
        "ul_ = utils.clean_list( ul_aux )\n",
        "\n",
        "ul_ate_siamesa = sum(ul_)/len(ul_)\n",
        "\n",
        "print(f'ate_siamesa: {ul_ate_siamesa:.4f}')\n",
        "\n",
        "siamesa_score = uplift_at_k(y_true=y_to_val, uplift=ul_, treatment=t_to_val, strategy='by_group', k=0.9)\n",
        "print(f'uplift@90%: {siamesa_score:.4f}')\n",
        "\n",
        "sis_qini_auc_score = qini_auc_score(y_true=y_to_val, uplift=ul_, treatment=t_to_val)\n",
        "print(f'qini_auc_score: {sis_qini_auc_score:.4f}')\n",
        "\n",
        "sis_uplift_auc_score = uplift_auc_score(y_true=y_to_val, uplift=ul_, treatment=t_to_val)\n",
        "print(f'uplift_auc_score: {sis_uplift_auc_score:.4f}')\n",
        "\n",
        "\n",
        "uplift_sis = plot_uplift_curve(y_to_val, ul_, t_to_val, perfect=True, name='Siamesa');\n",
        "uplift_sis.figure_.suptitle(\"Curva Uplift\");\n",
        "\n",
        "quini_sis = plot_qini_curve(y_to_val, ul_, t_to_val, perfect=True, name='Siamesa');\n",
        "quini_sis.figure_.suptitle(\"Curva Qini\");"
      ],
      "metadata": {
        "id": "4-uUAZSuv9VQ",
        "colab": {
          "base_uri": "https://localhost:8080/",
          "height": 726
        },
        "outputId": "3077b190-74b6-40b8-874c-0086c2c6bcfb"
      },
      "execution_count": null,
      "outputs": [
        {
          "output_type": "stream",
          "name": "stdout",
          "text": [
            "60/60 [==============================] - 1s 5ms/step\n",
            "ate_siamesa: 0.3498\n",
            "uplift@90%: 0.3690\n",
            "qini_auc_score: 0.1010\n",
            "uplift_auc_score: 0.1011\n"
          ]
        },
        {
          "output_type": "display_data",
          "data": {
            "text/plain": [
              "<Figure size 432x288 with 1 Axes>"
            ],
            "image/png": "[encoded data removed]"
          },
          "metadata": {}
        },
        {
          "output_type": "display_data",
          "data": {
            "text/plain": [
              "<Figure size 432x288 with 1 Axes>"
            ],
            "image/png": "[encoded data removed]"
          },
          "metadata": {}
        }
      ]
    },
    {
      "cell_type": "markdown",
      "metadata": {
        "id": "TsrlkgWGMAM9"
      },
      "source": [
        "## 6.- DRAGONNET\n"
      ]
    },
    {
      "cell_type": "code",
      "execution_count": null,
      "metadata": {
        "id": "9noA82WhrxEW"
      },
      "outputs": [],
      "source": [
        "data_aux = dataset_final.copy()\n",
        "#data_aux = data_aux.drop('z', axis =1)   \n",
        "target  = data_aux['buy_campaing'].values\n",
        "treatment  = data_aux['group'].values\n"
      ]
    },
    {
      "cell_type": "code",
      "execution_count": null,
      "metadata": {
        "id": "ql8m6LIgqAOo",
        "colab": {
          "base_uri": "https://localhost:8080/"
        },
        "outputId": "7807ef57-b6a2-414b-e502-7a659e98cfa9"
      },
      "outputs": [
        {
          "output_type": "execute_result",
          "data": {
            "text/plain": [
              "Index(['group', 'gender', 'year_birth', 'total_orders', 'total_m', 'total_f',\n",
              "       'total_o', 'regency', 'abandoned_cars', 'recupered_cars', 'orders_3',\n",
              "       'orders_6', 'orders_9', 'campaing_subscribe', 'conversion',\n",
              "       'spent_category', 'Others', 'colina', 'la reina', 'macul', 'maipu',\n",
              "       'nunoa', 'penalolen', 'providencia', 'puente alto', 'puerto montt',\n",
              "       'punta arenas', 'rancagua', 'buy_campaing', 'z'],\n",
              "      dtype='object')"
            ]
          },
          "metadata": {},
          "execution_count": 376
        }
      ],
      "source": [
        "from sklearn import preprocessing\n",
        "data_aux.columns"
      ]
    },
    {
      "cell_type": "code",
      "execution_count": null,
      "metadata": {
        "id": "fjPa-oOOvjg5"
      },
      "outputs": [],
      "source": [
        "le = preprocessing.LabelEncoder()\n",
        "\n",
        "# Asignamos la codificación al dataset \n",
        "data_aux = data_aux.apply(le.fit_transform)\n"
      ]
    },
    {
      "cell_type": "code",
      "execution_count": null,
      "metadata": {
        "id": "D7tk52ZfzKPa"
      },
      "outputs": [],
      "source": [
        "X_tr, X_val, y_tr, y_val, treat_tr, treat_val = train_test_split(\n",
        "   data_aux, target, treatment, test_size=0.5, stratify = target ##stratify = target #\n",
        ")"
      ]
    },
    {
      "cell_type": "code",
      "execution_count": null,
      "metadata": {
        "id": "wznI6VVBMwsG"
      },
      "outputs": [],
      "source": [
        "dragon = DragonNet(neurons_per_layer=5, epochs=30 , batch_size=10)\n",
        "dragon_ite = dragon.fit_predict(X_tr,treat_tr, np.asarray(y_tr).astype(np.float32),return_components=False)\n"
      ]
    },
    {
      "cell_type": "code",
      "source": [
        "dragon_ite[ dragon_ite<=-1.0 ]=-1\n",
        "dragon_ite[ dragon_ite>=1.0 ]=1\n"
      ],
      "metadata": {
        "id": "7y9aa_O16TZz"
      },
      "execution_count": null,
      "outputs": []
    },
    {
      "cell_type": "code",
      "source": [
        "dragon_ite = dragon_ite[:,0]"
      ],
      "metadata": {
        "id": "omGwh2Y4bJZR"
      },
      "execution_count": null,
      "outputs": []
    },
    {
      "cell_type": "code",
      "source": [
        "dn_score = uplift_at_k(y_true=y_val, uplift=dragon_ite, treatment=treat_val, strategy='by_group', k=0.9)"
      ],
      "metadata": {
        "id": "W6pg75DWUuew"
      },
      "execution_count": null,
      "outputs": []
    },
    {
      "cell_type": "code",
      "source": [
        "dn_qini_auc_score = qini_auc_score(y_true=y_val, uplift=dragon_ite, treatment=treat_val)\n",
        "\n",
        "dn_uplift_auc_score = uplift_auc_score(y_true=y_val, uplift=dragon_ite, treatment=treat_val)\n",
        "\n",
        "uplift_dragon = plot_uplift_curve(y_val, dragon_ite, treat_val, perfect=True, name='Dragonnet');\n",
        "uplift_dragon.figure_.suptitle(\"Curva Uplift\");\n",
        "\n",
        "uplift_disptwo = plot_qini_curve(y_val, dragon_ite, treat_val, perfect=True, name='Dragonnet');\n",
        "uplift_disptwo.figure_.suptitle(\"Curva Qini\");\n",
        "\n",
        "dragon_ate = dragon_ite.mean()## promedio despues de truncart los datos \n",
        "\n",
        "print(f'ATE dragon: {dragon_ate:.4f}')\n",
        "print(f'uplift@90%: {dn_score:.4f}')\n",
        "print(f'qini_auc_score: {dn_qini_auc_score:.4f}')\n",
        "print(f'dn_uplift_auc_score: {dn_uplift_auc_score:.4f}')\n"
      ],
      "metadata": {
        "id": "-RDW3Uby17k-",
        "colab": {
          "base_uri": "https://localhost:8080/",
          "height": 708
        },
        "outputId": "ee5754cf-cc6b-42cf-ee9f-1c4f3310aa76"
      },
      "execution_count": null,
      "outputs": [
        {
          "output_type": "stream",
          "name": "stdout",
          "text": [
            "ATE dragon: 0.4137\n",
            "uplift@90%: 0.3439\n",
            "qini_auc_score: 0.0036\n",
            "dn_uplift_auc_score: 0.0034\n"
          ]
        },
        {
          "output_type": "display_data",
          "data": {
            "text/plain": [
              "<Figure size 432x288 with 1 Axes>"
            ],
            "image/png": "[encoded data removed]"
          },
          "metadata": {}
        },
        {
          "output_type": "display_data",
          "data": {
            "text/plain": [
              "<Figure size 432x288 with 1 Axes>"
            ],
            "image/png": "[encoded data removed]"
          },
          "metadata": {}
        }
      ]
    },
    {
      "cell_type": "markdown",
      "source": [
        "\n",
        "\n",
        "7.- convolucion 1D\n",
        "\n",
        "\n"
      ],
      "metadata": {
        "id": "OcI0Y_jK_KXe"
      }
    },
    {
      "cell_type": "markdown",
      "metadata": {
        "id": "VPrqoTcs41dZ"
      },
      "source": [
        "## 8.- Siamesa sin cnn"
      ]
    },
    {
      "cell_type": "code",
      "source": [
        "utils.batch_size = 10\n",
        "utils.activation = 'relu'\n",
        "utils.dropout_rate = 0.01\n",
        "utils.nb_epoch = 30\n",
        "utils.neurons = 20\n",
        "utils.optimizer = 'adam'"
      ],
      "metadata": {
        "id": "uwbg_6b_5KG2"
      },
      "execution_count": null,
      "outputs": []
    },
    {
      "cell_type": "code",
      "source": [
        "def build_siamese_model_sin_cnn( optimizer = utils.optimizer , dropout_rate = utils.dropout_rate, activation =\"relu\" , neurons= 20):    \n",
        "  classifier = Sequential()\n",
        "  classifier.add(Dense( neurons , activation = activation, input_dim = utils.input_dim  , input_shape=utils.shape0 , name=\"layer1\") )\n",
        "  classifier.add(Dropout(dropout_rate))\n",
        "  classifier.add(Dense(units = 10, activation = \"relu\", name=\"layer2\"))\n",
        "  classifier.add(Dropout(dropout_rate))\n",
        "  classifier.add(Dense(units = 1, kernel_initializer = \"uniform\",  activation = \"sigmoid\", name=\"layer3\"))\n",
        "  return classifier"
      ],
      "metadata": {
        "id": "IWC8RfjP5R7u"
      },
      "execution_count": null,
      "outputs": []
    },
    {
      "cell_type": "code",
      "source": [
        "def subtraction(vectors):\n",
        "  (u1, u0) = vectors\n",
        "  subtracted = keras.layers.subtract([u1, u0])\n",
        "  return subtracted \n",
        "\n",
        "#verdadero uplift\n",
        "#µT = T µ1 + (1 − T)µ0\n",
        "def u_t(vectors):\n",
        "  (u1, u0, t) = vectors\n",
        "  mul_u1_t = keras.layers.multiply([u1, t])\n",
        "  mul_u0_t = keras.layers.multiply([u0, t])\n",
        "  aux1 = keras.layers.add([mul_u1_t, u0])\n",
        "  aux2 = keras.layers.subtract([aux1, mul_u0_t])  \n",
        "  return aux2\n",
        "\n",
        "## consultar al profe sobre esta funcion\n",
        "def pi_y(vectors):\n",
        "  (featsA, featsB, y) = vectors\n",
        "  aux1 = keras.layers.add([featsA, featsB])\n",
        "  aux2 = Lambda(lambda inputs: inputs[0] / (inputs[1]+tf.constant(1e-6)))([featsA, aux1])\n",
        "  aux3=tf.constant(1.)-featsA\n",
        "  aux4=tf.constant(1.)-featsB\n",
        "  aux5= keras.layers.add([aux3, aux4])\n",
        "  aux6 = Lambda(lambda inputs: inputs[0] / (inputs[1]+tf.constant(1e-6)))([aux3, aux5]) #para evitar division con 0\n",
        "  aux7= keras.layers.multiply([y, aux2])\n",
        "  aux8=tf.constant(1.)-y\n",
        "  aux9= keras.layers.multiply([aux8, aux6])\n",
        "  aux10 = keras.layers.add([aux7, aux9])  \n",
        "  return aux10\n",
        "\n",
        "def II_y( vectors ):\n",
        "  (u1, u0, y) = vectors\n",
        "  II_1 = Lambda(lambda x: x[0]/(x[1]+x[0]))([u1,u0])\n",
        "  II_0 = Lambda(lambda x: (1-x[0])/((1-x[1])+(1-x[0])))([u1,u0])\n",
        "  mul_u1_y = keras.layers.multiply([u1, y])\n",
        "  mul_u0_y = keras.layers.multiply([u0, y])\n",
        "  aux1 = keras.layers.add([mul_u1_y, u0])\n",
        "  aux2 = keras.layers.subtract([aux1, mul_u0_y])\n",
        "  return aux2"
      ],
      "metadata": {
        "id": "my5ScoD554yH"
      },
      "execution_count": null,
      "outputs": []
    },
    {
      "cell_type": "code",
      "source": [
        "data_aux = dataset_final.copy()\n",
        "target  = data_aux['buy_campaing'].values\n",
        "treatment  = data_aux['group'].values\n"
      ],
      "metadata": {
        "id": "a_LCB5DR6B__"
      },
      "execution_count": null,
      "outputs": []
    },
    {
      "cell_type": "code",
      "source": [
        "X_tr, X_val, y_tr, y_val, treat_tr, treat_val = train_test_split(\n",
        "   data_aux, target, treatment, test_size=0.5 , stratify = target #random_state=42\n",
        ")\n",
        "#y_test = y[i_test,]\n",
        "y_test = target[treat_val,]\n",
        "tt=data_aux['group'].values\n",
        "t_train=tt[treat_tr,]\n",
        "t_test=tt[treat_val,]\n",
        "z = X_tr['z'].values"
      ],
      "metadata": {
        "id": "wAP-Ley56L4f"
      },
      "execution_count": null,
      "outputs": []
    },
    {
      "cell_type": "code",
      "source": [
        "##omitimos los binarios en el escalado\n",
        "X = X_tr.iloc[:, 0:28] #no consideramos z ni y\n",
        "colums_convert = X.columns[~X.isin([0,1]).all()]\n",
        "features = X[ X.columns ]\n",
        "\n",
        "ct = ColumnTransformer([\n",
        "        ('data', StandardScaler(), colums_convert )\n",
        "    ], remainder='passthrough')\n",
        "\n",
        "#escalamos el dataset de entrenamiento\n",
        "dataset_convert = ct.fit_transform(features)\n",
        "\n",
        "#escalamos el dataset de prueba y exportamos la data en la data \n",
        "np.savetxt(\"data_pred.csv\", test_dataset , delimiter=\",\")\n",
        "\n",
        "\n",
        "X = test_dataset.iloc[:, 0:28] #no consideramos z ni y\n",
        "features = X[ X.columns ]\n",
        "\n",
        "h = X_tr.iloc[:, 0:28]\n",
        "features2 = h[ h.columns ]\n",
        "\n",
        "f = X_val.iloc[:, 0:28]\n",
        "features3 = f[ f.columns ]\n",
        "\n",
        "#X_prueba = dataset_convert.iloc[:, 0:28]\n",
        "\n",
        "test_dataset_convert = ct.fit_transform(features)\n",
        "train_dataset_convert = ct.fit_transform(features2)\n",
        "val_dataset_convert = ct.fit_transform(features3)"
      ],
      "metadata": {
        "id": "ROqToqpL6U2N"
      },
      "execution_count": null,
      "outputs": []
    },
    {
      "cell_type": "code",
      "source": [
        "#estas as usaremos para las predicciones\n",
        "y_to_pred = test_dataset['buy_campaing'].values\n",
        "z_to_pred = test_dataset['z'].values\n",
        "t_to_pred = test_dataset['group'].values\n",
        "X_to_pred = test_dataset_convert"
      ],
      "metadata": {
        "id": "8nR5UUZx6jBF"
      },
      "execution_count": null,
      "outputs": []
    },
    {
      "cell_type": "code",
      "source": [
        "y_to_train = X_tr['buy_campaing'].values\n",
        "z_to_train = X_tr['z'].values\n",
        "t_to_train = X_tr['group'].values\n",
        "X_to_train = train_dataset_convert"
      ],
      "metadata": {
        "id": "4ElB4wCE6j8U"
      },
      "execution_count": null,
      "outputs": []
    },
    {
      "cell_type": "code",
      "source": [
        "y_to_val = X_val['buy_campaing'].values\n",
        "z_to_val = X_val['z'].values\n",
        "t_to_val = X_val['group'].values\n",
        "X_to_val = val_dataset_convert"
      ],
      "metadata": {
        "id": "7CUMJ43F6sv0"
      },
      "execution_count": null,
      "outputs": []
    },
    {
      "cell_type": "code",
      "source": [
        "x_train = np.asarray(X_tr).astype(np.float32)\n",
        "t_train = np.asarray(treat_tr).astype(np.float32)\n",
        "y_train =  np.asarray(y_tr).astype(np.float32)\n",
        "x_val =  np.asarray(X_val).astype(np.float32)\n",
        "\n",
        "\n",
        "y_val = np.asarray(y_val).astype(np.float32)\n",
        "y_to_pred = np.asarray(y_to_pred).astype(np.float32)\n",
        "X_to_pred = np.asarray(X_to_pred).astype(np.float32)\n",
        "\n",
        "y_to_train = np.asarray(y_to_train).astype(np.float32)\n",
        "X_to_train = np.asarray(X_to_train).astype(np.float32)\n",
        "\n",
        "y_to_val = np.asarray(y_to_val).astype(np.float32)\n",
        "X_to_val = np.asarray(X_to_val).astype(np.float32)"
      ],
      "metadata": {
        "id": "e54TdxV-63Ae"
      },
      "execution_count": null,
      "outputs": []
    },
    {
      "cell_type": "code",
      "source": [
        "#Generación de pares\n",
        "#entrenamiento\n",
        "#pairTrain  , labelTrain=utils.make_pairs(x_train, y_train)\n",
        "(pairTrain, labelTrain) = utils.make_pairs(X_to_train, z)\n",
        "#validacion\n",
        "#pairTest , labelTest  =  utils.make_pairs(x_val, y_val)\n",
        "(pairTest_val, labelTest_val) = utils.make_pairs(X_to_val, y_to_val)\n",
        "#prueba\n",
        "\n",
        "(pairTest_to_pred, labelTest_to_pred) = utils.make_pairs(X_to_pred, y_to_pred)\n",
        "\n",
        "(pairTest_to_train, labelTest_to_train) = utils.make_pairs(X_to_train, y_to_train)"
      ],
      "metadata": {
        "id": "HgFmip6J7BQ1"
      },
      "execution_count": null,
      "outputs": []
    },
    {
      "cell_type": "code",
      "source": [
        "model_checkpoint_callback_2 = tf.keras.callbacks.ModelCheckpoint(\n",
        "    filepath='best_model_2.hdf5',\n",
        "    save_weights_only=True,\n",
        "    monitor='val_loss',\n",
        "    mode='min',\n",
        "    save_best_only=True)"
      ],
      "metadata": {
        "id": "9zzA0GUR7O9l"
      },
      "execution_count": null,
      "outputs": []
    },
    {
      "cell_type": "code",
      "source": [
        "model_checkpoint_callback_1 = tf.keras.callbacks.ModelCheckpoint(\n",
        "    filepath='best_model_2.hdf5',\n",
        "    save_weights_only=True,\n",
        "    monitor='val_loss',\n",
        "    mode='min',\n",
        "    save_best_only=True)"
      ],
      "metadata": {
        "id": "U-F0_y0U7aue"
      },
      "execution_count": null,
      "outputs": []
    },
    {
      "cell_type": "code",
      "source": [
        "#Configuracion de entradas de la red\n",
        "utils.shape0 = (29,)\n",
        "inputA = Input( utils.shape0 )\n",
        "inputB = Input( utils.shape0 )\n",
        "\n",
        "inputT = Input( utils.shape1)\n",
        "\n",
        "label_z = Input(utils.shape1)\n",
        "\n",
        "label_y = Input(utils.shape1)\n",
        "\n",
        "label_t = Input(utils.shape1)\n",
        "\n",
        "\n",
        "featureExtractor = build_siamese_model_sin_cnn() ## siamesa sin cnn\n",
        "featsA = featureExtractor(inputA)\n",
        "featsB = featureExtractor(inputB)"
      ],
      "metadata": {
        "id": "4jNGkgDR7bjO"
      },
      "execution_count": null,
      "outputs": []
    },
    {
      "cell_type": "code",
      "source": [
        "u1_u0 =  Lambda(subtraction)([featsA, featsB])\n",
        "II_y =  Lambda(II_y)([featsA, featsB, label_y])\n",
        "piy =  Lambda(pi_y)([featsA, featsB, label_y])\n",
        "ut =  Lambda(u_t)([featsA, featsB, inputT])\n",
        "\n",
        "loss = K.mean(((1-utils.alpha))*mean_squared_error(label_z,u1_u0) + (utils.alpha)*binary_crossentropy(label_y, ut ))\n",
        "\n",
        "model_alter = Model(inputs=[inputA, inputB, inputT, label_t, label_y], outputs=[u1_u0,II_y,ut])"
      ],
      "metadata": {
        "id": "eA8jZ0Gf7mFd"
      },
      "execution_count": null,
      "outputs": []
    },
    {
      "cell_type": "code",
      "source": [
        "opt = tf.optimizers.Adam(learning_rate=0.0005)\n",
        "\n",
        "model = Model(inputs=[inputA, inputB, inputT, label_z, label_y], outputs=[u1_u0,piy,ut])\n",
        "model = Model(inputs=[inputA, inputB, inputT, label_z, label_y], outputs=[u1_u0,piy,ut])\n",
        "\n",
        "model.add_loss(loss)\n",
        "model.compile(opt)\n",
        "# model.summary()"
      ],
      "metadata": {
        "id": "DvrvETKF7wUE"
      },
      "execution_count": null,
      "outputs": []
    },
    {
      "cell_type": "code",
      "source": [
        "loss_alter = K.mean(((1-utils.alpha))*binary_crossentropy(label_t,II_y) + (utils.alpha)*binary_crossentropy(label_y, ut ))\n",
        "model_alter.add_loss(loss_alter)"
      ],
      "metadata": {
        "id": "Eo8ViwOm8ETZ"
      },
      "execution_count": null,
      "outputs": []
    },
    {
      "cell_type": "code",
      "source": [
        "model_alter.compile( opt )"
      ],
      "metadata": {
        "id": "WPVxmGvG8FGN"
      },
      "execution_count": null,
      "outputs": []
    },
    {
      "cell_type": "code",
      "source": [
        "history2 = model_alter.fit([pairTest_to_train,t_to_train,labelTest_to_train,y_to_train], \tbatch_size= utils.batch_size, \n",
        "                          epochs= 30 ,callbacks=[model_checkpoint_callback_2] , verbose=0 )"
      ],
      "metadata": {
        "id": "Ec5bj4cS8KIA",
        "colab": {
          "base_uri": "https://localhost:8080/"
        },
        "outputId": "41b80aa4-0689-4704-e069-e8bede1729bc"
      },
      "execution_count": null,
      "outputs": [
        {
          "output_type": "stream",
          "name": "stderr",
          "text": [
            "WARNING:tensorflow:Can save best model only with val_loss available, skipping.\n",
            "WARNING:tensorflow:Can save best model only with val_loss available, skipping.\n",
            "WARNING:tensorflow:Can save best model only with val_loss available, skipping.\n",
            "WARNING:tensorflow:Can save best model only with val_loss available, skipping.\n",
            "WARNING:tensorflow:Can save best model only with val_loss available, skipping.\n",
            "WARNING:tensorflow:Can save best model only with val_loss available, skipping.\n",
            "WARNING:tensorflow:Can save best model only with val_loss available, skipping.\n",
            "WARNING:tensorflow:Can save best model only with val_loss available, skipping.\n",
            "WARNING:tensorflow:Can save best model only with val_loss available, skipping.\n",
            "WARNING:tensorflow:Can save best model only with val_loss available, skipping.\n",
            "WARNING:tensorflow:Can save best model only with val_loss available, skipping.\n",
            "WARNING:tensorflow:Can save best model only with val_loss available, skipping.\n",
            "WARNING:tensorflow:Can save best model only with val_loss available, skipping.\n",
            "WARNING:tensorflow:Can save best model only with val_loss available, skipping.\n",
            "WARNING:tensorflow:Can save best model only with val_loss available, skipping.\n",
            "WARNING:tensorflow:Can save best model only with val_loss available, skipping.\n",
            "WARNING:tensorflow:Can save best model only with val_loss available, skipping.\n",
            "WARNING:tensorflow:Can save best model only with val_loss available, skipping.\n",
            "WARNING:tensorflow:Can save best model only with val_loss available, skipping.\n",
            "WARNING:tensorflow:Can save best model only with val_loss available, skipping.\n",
            "WARNING:tensorflow:Can save best model only with val_loss available, skipping.\n",
            "WARNING:tensorflow:Can save best model only with val_loss available, skipping.\n",
            "WARNING:tensorflow:Can save best model only with val_loss available, skipping.\n",
            "WARNING:tensorflow:Can save best model only with val_loss available, skipping.\n",
            "WARNING:tensorflow:Can save best model only with val_loss available, skipping.\n",
            "WARNING:tensorflow:Can save best model only with val_loss available, skipping.\n",
            "WARNING:tensorflow:Can save best model only with val_loss available, skipping.\n",
            "WARNING:tensorflow:Can save best model only with val_loss available, skipping.\n",
            "WARNING:tensorflow:Can save best model only with val_loss available, skipping.\n",
            "WARNING:tensorflow:Can save best model only with val_loss available, skipping.\n"
          ]
        }
      ]
    },
    {
      "cell_type": "code",
      "source": [
        "ul = model_alter.predict([pairTest_val,t_to_val,labelTest_val,y_to_val])\n",
        "#ul_alt = model_alter.predict([pairTest_val,t_to_val,labelTest_val,y_to_val])\n",
        "ul_aux = ul[1].copy()\n",
        "ul_ = utils.clean_list( ul_aux )\n",
        "\n",
        "\n",
        "ul_ate_siamesa = sum(ul_)/len(ul_)\n",
        "\n",
        "print(f'ate_siamesa: {ul_ate_siamesa:.4f}')\n",
        "\n",
        "siamesa_score = uplift_at_k(y_true=y_to_val, uplift=ul_, treatment=t_to_val, strategy='by_group', k=0.9)\n",
        "print(f'uplift@90%: {siamesa_score:.4f}')\n",
        "\n",
        "sis_qini_auc_score = qini_auc_score(y_true=y_to_val, uplift=ul_, treatment=t_to_val)\n",
        "print(f'qini_auc_score: {sis_qini_auc_score:.4f}')\n",
        "\n",
        "sis_uplift_auc_score = uplift_auc_score(y_true=y_to_val, uplift=ul_, treatment=t_to_val)\n",
        "print(f'uplift_auc_score: {sis_uplift_auc_score:.4f}')\n",
        "\n",
        "\n",
        "uplift_sis = plot_uplift_curve(y_to_val, ul_, t_to_val, perfect=True, name='Siamesa');\n",
        "uplift_sis.figure_.suptitle(\"Curva Uplift\");\n",
        "\n",
        "quini_sis = plot_qini_curve(y_to_val, ul_, t_to_val, perfect=True, name='Siamesa');\n",
        "quini_sis.figure_.suptitle(\"Curva Qini\");"
      ],
      "metadata": {
        "id": "EiXuAL-48QbM",
        "colab": {
          "base_uri": "https://localhost:8080/",
          "height": 726
        },
        "outputId": "ab34167f-3138-4a76-8ceb-c35414ad6036"
      },
      "execution_count": null,
      "outputs": [
        {
          "output_type": "stream",
          "name": "stdout",
          "text": [
            "60/60 [==============================] - 1s 9ms/step\n",
            "ate_siamesa: 0.3362\n",
            "uplift@90%: 0.3841\n",
            "qini_auc_score: 0.1377\n",
            "uplift_auc_score: 0.1762\n"
          ]
        },
        {
          "output_type": "display_data",
          "data": {
            "text/plain": [
              "<Figure size 432x288 with 1 Axes>"
            ],
            "image/png": "[encoded data removed]"
          },
          "metadata": {}
        },
        {
          "output_type": "display_data",
          "data": {
            "text/plain": [
              "<Figure size 432x288 with 1 Axes>"
            ],
            "image/png": "[encoded data removed]"
          },
          "metadata": {}
        }
      ]
    }
  ],
  "metadata": {
    "colab": {
      "collapsed_sections": [
        "mBuatpXwvXal",
        "iuF6m4I_5_Nz",
        "Iz3EUwnE66X_",
        "G4v8nMuAS5OW",
        "6KKKsnBsisET",
        "TsrlkgWGMAM9"
      ],
      "provenance": [],
      "include_colab_link": true
    },
    "kernelspec": {
      "display_name": "Python 3",
      "name": "python3"
    },
    "language_info": {
      "name": "python"
    }
  },
  "nbformat": 4,
  "nbformat_minor": 0
}